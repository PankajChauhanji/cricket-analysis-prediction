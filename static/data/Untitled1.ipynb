{
 "cells": [
  {
   "cell_type": "code",
   "execution_count": 1,
   "metadata": {},
   "outputs": [],
   "source": [
    "import numpy as np\n",
    "import pandas as pd"
   ]
  },
  {
   "cell_type": "code",
   "execution_count": 26,
   "metadata": {},
   "outputs": [],
   "source": [
    "df = pd.read_csv('match.csv')"
   ]
  },
  {
   "cell_type": "code",
   "execution_count": 57,
   "metadata": {},
   "outputs": [
    {
     "data": {
      "text/plain": [
       "['M Chinnaswamy Stadium',\n",
       " 'Punjab Cricket Association Stadium, Mohali',\n",
       " 'Feroz Shah Kotla',\n",
       " 'Wankhede Stadium',\n",
       " 'Eden Gardens',\n",
       " 'Sawai Mansingh Stadium',\n",
       " 'Rajiv Gandhi International Stadium, Uppal',\n",
       " 'MA Chidambaram Stadium, Chepauk',\n",
       " 'Dr DY Patil Sports Academy',\n",
       " 'Newlands',\n",
       " \"St George's Park\",\n",
       " 'Kingsmead',\n",
       " 'SuperSport Park',\n",
       " 'Buffalo Park',\n",
       " 'New Wanderers Stadium',\n",
       " 'De Beers Diamond Oval',\n",
       " 'OUTsurance Oval',\n",
       " 'Brabourne Stadium',\n",
       " 'Sardar Patel Stadium, Motera',\n",
       " 'Barabati Stadium',\n",
       " 'Vidarbha Cricket Association Stadium, Jamtha',\n",
       " 'Himachal Pradesh Cricket Association Stadium',\n",
       " 'Nehru Stadium',\n",
       " 'Holkar Cricket Stadium',\n",
       " 'Dr. Y.S. Rajasekhara Reddy ACA-VDCA Cricket Stadium',\n",
       " 'Subrata Roy Sahara Stadium',\n",
       " 'Shaheed Veer Narayan Singh International Stadium',\n",
       " 'JSCA International Stadium Complex',\n",
       " 'Sheikh Zayed Stadium',\n",
       " 'Sharjah Cricket Stadium',\n",
       " 'Dubai International Cricket Stadium',\n",
       " 'Maharashtra Cricket Association Stadium',\n",
       " 'Punjab Cricket Association IS Bindra Stadium, Mohali',\n",
       " 'Saurashtra Cricket Association Stadium',\n",
       " 'Green Park',\n",
       " 'Rajiv Gandhi International Stadium Uppal',\n",
       " 'Punjab Cricket Association IS Bindra Stadium Mohali']"
      ]
     },
     "execution_count": 57,
     "metadata": {},
     "output_type": "execute_result"
    }
   ],
   "source": [
    "df1 = df[\"Venue_Name\"].unique()\n",
    "df2 = df1.tolist()\n",
    "df3 = []\n",
    "for ele in df2:\n",
    "    if type(ele) == str:\n",
    "        df3.append(ele)\n",
    "df3"
   ]
  },
  {
   "cell_type": "code",
   "execution_count": 47,
   "metadata": {},
   "outputs": [],
   "source": [
    "df2 = df1.tolist()"
   ]
  },
  {
   "cell_type": "code",
   "execution_count": 56,
   "metadata": {},
   "outputs": [
    {
     "name": "stdout",
     "output_type": "stream",
     "text": [
      "['M Chinnaswamy Stadium', 'Punjab Cricket Association Stadium, Mohali', 'Feroz Shah Kotla', 'Wankhede Stadium', 'Eden Gardens', 'Sawai Mansingh Stadium', 'Rajiv Gandhi International Stadium, Uppal', 'MA Chidambaram Stadium, Chepauk', 'Dr DY Patil Sports Academy', 'Newlands', \"St George's Park\", 'Kingsmead', 'SuperSport Park', 'Buffalo Park', 'New Wanderers Stadium', 'De Beers Diamond Oval', 'OUTsurance Oval', 'Brabourne Stadium', 'Sardar Patel Stadium, Motera', 'Barabati Stadium', 'Vidarbha Cricket Association Stadium, Jamtha', 'Himachal Pradesh Cricket Association Stadium', 'Nehru Stadium', 'Holkar Cricket Stadium', 'Dr. Y.S. Rajasekhara Reddy ACA-VDCA Cricket Stadium', 'Subrata Roy Sahara Stadium', 'Shaheed Veer Narayan Singh International Stadium', 'JSCA International Stadium Complex', 'Sheikh Zayed Stadium', 'Sharjah Cricket Stadium', 'Dubai International Cricket Stadium', 'Maharashtra Cricket Association Stadium', 'Punjab Cricket Association IS Bindra Stadium, Mohali', 'Saurashtra Cricket Association Stadium', 'Green Park', 'Rajiv Gandhi International Stadium Uppal', 'Punjab Cricket Association IS Bindra Stadium Mohali']\n"
     ]
    }
   ],
   "source": [
    "df3 = []\n",
    "for ele in df2:\n",
    "    if type(ele) == str:\n",
    "        df3.append(ele)\n",
    "print(df3)"
   ]
  },
  {
   "cell_type": "code",
   "execution_count": null,
   "metadata": {},
   "outputs": [],
   "source": []
  }
 ],
 "metadata": {
  "kernelspec": {
   "display_name": "Python 3",
   "language": "python",
   "name": "python3"
  },
  "language_info": {
   "codemirror_mode": {
    "name": "ipython",
    "version": 3
   },
   "file_extension": ".py",
   "mimetype": "text/x-python",
   "name": "python",
   "nbconvert_exporter": "python",
   "pygments_lexer": "ipython3",
   "version": "3.8.3"
  }
 },
 "nbformat": 4,
 "nbformat_minor": 4
}
