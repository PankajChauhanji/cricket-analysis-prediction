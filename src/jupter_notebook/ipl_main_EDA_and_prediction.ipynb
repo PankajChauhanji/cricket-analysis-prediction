{
 "cells": [
  {
   "cell_type": "markdown",
   "metadata": {
    "id": "Jtd0BpqbBeuu"
   },
   "source": [
    "# Cricket Analysis and Prediction."
   ]
  },
  {
   "cell_type": "markdown",
   "metadata": {
    "id": "Opaf_1cIi4Is"
   },
   "source": [
    "## Libraries and Data"
   ]
  },
  {
   "cell_type": "code",
   "execution_count": 1,
   "metadata": {
    "id": "9b5l_xuhRu_X"
   },
   "outputs": [],
   "source": [
    "import os\n",
    "import numpy as np\n",
    "import pandas as pd\n",
    "import matplotlib.pyplot as plt\n",
    "import seaborn as sns\n",
    "import warnings\n",
    "import category_encoders as ce\n",
    "warnings.filterwarnings('ignore')"
   ]
  },
  {
   "cell_type": "code",
   "execution_count": 2,
   "metadata": {
    "id": "wOvjYGeOR8y7"
   },
   "outputs": [],
   "source": [
    "data = pd.read_csv('ipl.csv')"
   ]
  },
  {
   "cell_type": "code",
   "execution_count": 3,
   "metadata": {
    "colab": {
     "base_uri": "https://localhost:8080/"
    },
    "id": "HpsMqiixSElc",
    "outputId": "9af38193-9b06-46c2-9074-c6e3a41a0fbe"
   },
   "outputs": [
    {
     "data": {
      "text/html": [
       "<div>\n",
       "<style scoped>\n",
       "    .dataframe tbody tr th:only-of-type {\n",
       "        vertical-align: middle;\n",
       "    }\n",
       "\n",
       "    .dataframe tbody tr th {\n",
       "        vertical-align: top;\n",
       "    }\n",
       "\n",
       "    .dataframe thead th {\n",
       "        text-align: right;\n",
       "    }\n",
       "</style>\n",
       "<table border=\"1\" class=\"dataframe\">\n",
       "  <thead>\n",
       "    <tr style=\"text-align: right;\">\n",
       "      <th></th>\n",
       "      <th>mid</th>\n",
       "      <th>date</th>\n",
       "      <th>venue</th>\n",
       "      <th>bat_team</th>\n",
       "      <th>bowl_team</th>\n",
       "      <th>batsman</th>\n",
       "      <th>bowler</th>\n",
       "      <th>runs</th>\n",
       "      <th>wickets</th>\n",
       "      <th>overs</th>\n",
       "      <th>runs_last_5</th>\n",
       "      <th>wickets_last_5</th>\n",
       "      <th>striker</th>\n",
       "      <th>non-striker</th>\n",
       "      <th>total</th>\n",
       "    </tr>\n",
       "  </thead>\n",
       "  <tbody>\n",
       "    <tr>\n",
       "      <th>0</th>\n",
       "      <td>1</td>\n",
       "      <td>2008-04-18</td>\n",
       "      <td>M Chinnaswamy Stadium</td>\n",
       "      <td>Kolkata Knight Riders</td>\n",
       "      <td>Royal Challengers Bangalore</td>\n",
       "      <td>SC Ganguly</td>\n",
       "      <td>P Kumar</td>\n",
       "      <td>1</td>\n",
       "      <td>0</td>\n",
       "      <td>0.1</td>\n",
       "      <td>1</td>\n",
       "      <td>0</td>\n",
       "      <td>0</td>\n",
       "      <td>0</td>\n",
       "      <td>222</td>\n",
       "    </tr>\n",
       "    <tr>\n",
       "      <th>1</th>\n",
       "      <td>1</td>\n",
       "      <td>2008-04-18</td>\n",
       "      <td>M Chinnaswamy Stadium</td>\n",
       "      <td>Kolkata Knight Riders</td>\n",
       "      <td>Royal Challengers Bangalore</td>\n",
       "      <td>BB McCullum</td>\n",
       "      <td>P Kumar</td>\n",
       "      <td>1</td>\n",
       "      <td>0</td>\n",
       "      <td>0.2</td>\n",
       "      <td>1</td>\n",
       "      <td>0</td>\n",
       "      <td>0</td>\n",
       "      <td>0</td>\n",
       "      <td>222</td>\n",
       "    </tr>\n",
       "    <tr>\n",
       "      <th>2</th>\n",
       "      <td>1</td>\n",
       "      <td>2008-04-18</td>\n",
       "      <td>M Chinnaswamy Stadium</td>\n",
       "      <td>Kolkata Knight Riders</td>\n",
       "      <td>Royal Challengers Bangalore</td>\n",
       "      <td>BB McCullum</td>\n",
       "      <td>P Kumar</td>\n",
       "      <td>2</td>\n",
       "      <td>0</td>\n",
       "      <td>0.2</td>\n",
       "      <td>2</td>\n",
       "      <td>0</td>\n",
       "      <td>0</td>\n",
       "      <td>0</td>\n",
       "      <td>222</td>\n",
       "    </tr>\n",
       "    <tr>\n",
       "      <th>3</th>\n",
       "      <td>1</td>\n",
       "      <td>2008-04-18</td>\n",
       "      <td>M Chinnaswamy Stadium</td>\n",
       "      <td>Kolkata Knight Riders</td>\n",
       "      <td>Royal Challengers Bangalore</td>\n",
       "      <td>BB McCullum</td>\n",
       "      <td>P Kumar</td>\n",
       "      <td>2</td>\n",
       "      <td>0</td>\n",
       "      <td>0.3</td>\n",
       "      <td>2</td>\n",
       "      <td>0</td>\n",
       "      <td>0</td>\n",
       "      <td>0</td>\n",
       "      <td>222</td>\n",
       "    </tr>\n",
       "  </tbody>\n",
       "</table>\n",
       "</div>"
      ],
      "text/plain": [
       "   mid        date                  venue               bat_team  \\\n",
       "0    1  2008-04-18  M Chinnaswamy Stadium  Kolkata Knight Riders   \n",
       "1    1  2008-04-18  M Chinnaswamy Stadium  Kolkata Knight Riders   \n",
       "2    1  2008-04-18  M Chinnaswamy Stadium  Kolkata Knight Riders   \n",
       "3    1  2008-04-18  M Chinnaswamy Stadium  Kolkata Knight Riders   \n",
       "\n",
       "                     bowl_team      batsman   bowler  runs  wickets  overs  \\\n",
       "0  Royal Challengers Bangalore   SC Ganguly  P Kumar     1        0    0.1   \n",
       "1  Royal Challengers Bangalore  BB McCullum  P Kumar     1        0    0.2   \n",
       "2  Royal Challengers Bangalore  BB McCullum  P Kumar     2        0    0.2   \n",
       "3  Royal Challengers Bangalore  BB McCullum  P Kumar     2        0    0.3   \n",
       "\n",
       "   runs_last_5  wickets_last_5  striker  non-striker  total  \n",
       "0            1               0        0            0    222  \n",
       "1            1               0        0            0    222  \n",
       "2            2               0        0            0    222  \n",
       "3            2               0        0            0    222  "
      ]
     },
     "execution_count": 3,
     "metadata": {},
     "output_type": "execute_result"
    }
   ],
   "source": [
    "data.head(4)"
   ]
  },
  {
   "cell_type": "markdown",
   "metadata": {
    "id": "VC6bdExVSlFp"
   },
   "source": [
    "## Data Preprocessing"
   ]
  },
  {
   "cell_type": "code",
   "execution_count": 4,
   "metadata": {
    "colab": {
     "base_uri": "https://localhost:8080/"
    },
    "id": "ulnoMtpaHPug",
    "outputId": "2a44bd84-c71b-45f9-cd53-a122887244ce"
   },
   "outputs": [
    {
     "name": "stdout",
     "output_type": "stream",
     "text": [
      "<class 'pandas.core.frame.DataFrame'>\n",
      "RangeIndex: 76014 entries, 0 to 76013\n",
      "Data columns (total 15 columns):\n",
      " #   Column          Non-Null Count  Dtype  \n",
      "---  ------          --------------  -----  \n",
      " 0   mid             76014 non-null  int64  \n",
      " 1   date            76014 non-null  object \n",
      " 2   venue           76014 non-null  object \n",
      " 3   bat_team        76014 non-null  object \n",
      " 4   bowl_team       76014 non-null  object \n",
      " 5   batsman         76014 non-null  object \n",
      " 6   bowler          76014 non-null  object \n",
      " 7   runs            76014 non-null  int64  \n",
      " 8   wickets         76014 non-null  int64  \n",
      " 9   overs           76014 non-null  float64\n",
      " 10  runs_last_5     76014 non-null  int64  \n",
      " 11  wickets_last_5  76014 non-null  int64  \n",
      " 12  striker         76014 non-null  int64  \n",
      " 13  non-striker     76014 non-null  int64  \n",
      " 14  total           76014 non-null  int64  \n",
      "dtypes: float64(1), int64(8), object(6)\n",
      "memory usage: 8.7+ MB\n"
     ]
    }
   ],
   "source": [
    "data.info()"
   ]
  },
  {
   "cell_type": "code",
   "execution_count": 5,
   "metadata": {
    "colab": {
     "base_uri": "https://localhost:8080/"
    },
    "id": "zUZn4VNCKJmu",
    "outputId": "a75b0c1f-c77f-42be-9da3-d92176a6bb25"
   },
   "outputs": [
    {
     "data": {
      "text/html": [
       "<div>\n",
       "<style scoped>\n",
       "    .dataframe tbody tr th:only-of-type {\n",
       "        vertical-align: middle;\n",
       "    }\n",
       "\n",
       "    .dataframe tbody tr th {\n",
       "        vertical-align: top;\n",
       "    }\n",
       "\n",
       "    .dataframe thead th {\n",
       "        text-align: right;\n",
       "    }\n",
       "</style>\n",
       "<table border=\"1\" class=\"dataframe\">\n",
       "  <thead>\n",
       "    <tr style=\"text-align: right;\">\n",
       "      <th></th>\n",
       "      <th>mid</th>\n",
       "      <th>runs</th>\n",
       "      <th>wickets</th>\n",
       "      <th>overs</th>\n",
       "      <th>runs_last_5</th>\n",
       "      <th>wickets_last_5</th>\n",
       "      <th>striker</th>\n",
       "      <th>non-striker</th>\n",
       "      <th>total</th>\n",
       "    </tr>\n",
       "  </thead>\n",
       "  <tbody>\n",
       "    <tr>\n",
       "      <th>count</th>\n",
       "      <td>76014.000000</td>\n",
       "      <td>76014.000000</td>\n",
       "      <td>76014.000000</td>\n",
       "      <td>76014.000000</td>\n",
       "      <td>76014.000000</td>\n",
       "      <td>76014.000000</td>\n",
       "      <td>76014.000000</td>\n",
       "      <td>76014.000000</td>\n",
       "      <td>76014.000000</td>\n",
       "    </tr>\n",
       "    <tr>\n",
       "      <th>mean</th>\n",
       "      <td>308.627740</td>\n",
       "      <td>74.889349</td>\n",
       "      <td>2.415844</td>\n",
       "      <td>9.783068</td>\n",
       "      <td>33.216434</td>\n",
       "      <td>1.120307</td>\n",
       "      <td>24.962283</td>\n",
       "      <td>8.869287</td>\n",
       "      <td>160.901452</td>\n",
       "    </tr>\n",
       "    <tr>\n",
       "      <th>std</th>\n",
       "      <td>178.156878</td>\n",
       "      <td>48.823327</td>\n",
       "      <td>2.015207</td>\n",
       "      <td>5.772587</td>\n",
       "      <td>14.914174</td>\n",
       "      <td>1.053343</td>\n",
       "      <td>20.079752</td>\n",
       "      <td>10.795742</td>\n",
       "      <td>29.246231</td>\n",
       "    </tr>\n",
       "    <tr>\n",
       "      <th>min</th>\n",
       "      <td>1.000000</td>\n",
       "      <td>0.000000</td>\n",
       "      <td>0.000000</td>\n",
       "      <td>0.000000</td>\n",
       "      <td>0.000000</td>\n",
       "      <td>0.000000</td>\n",
       "      <td>0.000000</td>\n",
       "      <td>0.000000</td>\n",
       "      <td>67.000000</td>\n",
       "    </tr>\n",
       "    <tr>\n",
       "      <th>25%</th>\n",
       "      <td>154.000000</td>\n",
       "      <td>34.000000</td>\n",
       "      <td>1.000000</td>\n",
       "      <td>4.600000</td>\n",
       "      <td>24.000000</td>\n",
       "      <td>0.000000</td>\n",
       "      <td>10.000000</td>\n",
       "      <td>1.000000</td>\n",
       "      <td>142.000000</td>\n",
       "    </tr>\n",
       "    <tr>\n",
       "      <th>50%</th>\n",
       "      <td>308.000000</td>\n",
       "      <td>70.000000</td>\n",
       "      <td>2.000000</td>\n",
       "      <td>9.600000</td>\n",
       "      <td>34.000000</td>\n",
       "      <td>1.000000</td>\n",
       "      <td>20.000000</td>\n",
       "      <td>5.000000</td>\n",
       "      <td>162.000000</td>\n",
       "    </tr>\n",
       "    <tr>\n",
       "      <th>75%</th>\n",
       "      <td>463.000000</td>\n",
       "      <td>111.000000</td>\n",
       "      <td>4.000000</td>\n",
       "      <td>14.600000</td>\n",
       "      <td>43.000000</td>\n",
       "      <td>2.000000</td>\n",
       "      <td>35.000000</td>\n",
       "      <td>13.000000</td>\n",
       "      <td>181.000000</td>\n",
       "    </tr>\n",
       "    <tr>\n",
       "      <th>max</th>\n",
       "      <td>617.000000</td>\n",
       "      <td>263.000000</td>\n",
       "      <td>10.000000</td>\n",
       "      <td>19.600000</td>\n",
       "      <td>113.000000</td>\n",
       "      <td>7.000000</td>\n",
       "      <td>175.000000</td>\n",
       "      <td>109.000000</td>\n",
       "      <td>263.000000</td>\n",
       "    </tr>\n",
       "  </tbody>\n",
       "</table>\n",
       "</div>"
      ],
      "text/plain": [
       "                mid          runs       wickets         overs   runs_last_5  \\\n",
       "count  76014.000000  76014.000000  76014.000000  76014.000000  76014.000000   \n",
       "mean     308.627740     74.889349      2.415844      9.783068     33.216434   \n",
       "std      178.156878     48.823327      2.015207      5.772587     14.914174   \n",
       "min        1.000000      0.000000      0.000000      0.000000      0.000000   \n",
       "25%      154.000000     34.000000      1.000000      4.600000     24.000000   \n",
       "50%      308.000000     70.000000      2.000000      9.600000     34.000000   \n",
       "75%      463.000000    111.000000      4.000000     14.600000     43.000000   \n",
       "max      617.000000    263.000000     10.000000     19.600000    113.000000   \n",
       "\n",
       "       wickets_last_5       striker   non-striker         total  \n",
       "count    76014.000000  76014.000000  76014.000000  76014.000000  \n",
       "mean         1.120307     24.962283      8.869287    160.901452  \n",
       "std          1.053343     20.079752     10.795742     29.246231  \n",
       "min          0.000000      0.000000      0.000000     67.000000  \n",
       "25%          0.000000     10.000000      1.000000    142.000000  \n",
       "50%          1.000000     20.000000      5.000000    162.000000  \n",
       "75%          2.000000     35.000000     13.000000    181.000000  \n",
       "max          7.000000    175.000000    109.000000    263.000000  "
      ]
     },
     "execution_count": 5,
     "metadata": {},
     "output_type": "execute_result"
    }
   ],
   "source": [
    "data.describe()"
   ]
  },
  {
   "cell_type": "markdown",
   "metadata": {
    "id": "xhWRfy6ERKAn"
   },
   "source": [
    "Some of the less usefull columns can be removed. For prediction purposes, date has no significance. Also columns like batsman and bowler are string so during encoding they can create in large number of columns which will decrease the efficiency and accuracy."
   ]
  },
  {
   "cell_type": "code",
   "execution_count": 6,
   "metadata": {
    "id": "-a3GvRYkTo9I"
   },
   "outputs": [],
   "source": [
    "data = data.drop(['mid','date','batsman', 'bowler'], axis=1)"
   ]
  },
  {
   "cell_type": "code",
   "execution_count": 7,
   "metadata": {
    "colab": {
     "base_uri": "https://localhost:8080/"
    },
    "id": "DY9YiKVAVeH7",
    "outputId": "e1fb8974-041d-49a6-f92f-700c74a57e97"
   },
   "outputs": [
    {
     "data": {
      "text/html": [
       "<div>\n",
       "<style scoped>\n",
       "    .dataframe tbody tr th:only-of-type {\n",
       "        vertical-align: middle;\n",
       "    }\n",
       "\n",
       "    .dataframe tbody tr th {\n",
       "        vertical-align: top;\n",
       "    }\n",
       "\n",
       "    .dataframe thead th {\n",
       "        text-align: right;\n",
       "    }\n",
       "</style>\n",
       "<table border=\"1\" class=\"dataframe\">\n",
       "  <thead>\n",
       "    <tr style=\"text-align: right;\">\n",
       "      <th></th>\n",
       "      <th>venue</th>\n",
       "      <th>bat_team</th>\n",
       "      <th>bowl_team</th>\n",
       "      <th>runs</th>\n",
       "      <th>wickets</th>\n",
       "      <th>overs</th>\n",
       "      <th>runs_last_5</th>\n",
       "      <th>wickets_last_5</th>\n",
       "      <th>striker</th>\n",
       "      <th>non-striker</th>\n",
       "      <th>total</th>\n",
       "    </tr>\n",
       "  </thead>\n",
       "  <tbody>\n",
       "    <tr>\n",
       "      <th>0</th>\n",
       "      <td>M Chinnaswamy Stadium</td>\n",
       "      <td>Kolkata Knight Riders</td>\n",
       "      <td>Royal Challengers Bangalore</td>\n",
       "      <td>1</td>\n",
       "      <td>0</td>\n",
       "      <td>0.1</td>\n",
       "      <td>1</td>\n",
       "      <td>0</td>\n",
       "      <td>0</td>\n",
       "      <td>0</td>\n",
       "      <td>222</td>\n",
       "    </tr>\n",
       "    <tr>\n",
       "      <th>1</th>\n",
       "      <td>M Chinnaswamy Stadium</td>\n",
       "      <td>Kolkata Knight Riders</td>\n",
       "      <td>Royal Challengers Bangalore</td>\n",
       "      <td>1</td>\n",
       "      <td>0</td>\n",
       "      <td>0.2</td>\n",
       "      <td>1</td>\n",
       "      <td>0</td>\n",
       "      <td>0</td>\n",
       "      <td>0</td>\n",
       "      <td>222</td>\n",
       "    </tr>\n",
       "    <tr>\n",
       "      <th>2</th>\n",
       "      <td>M Chinnaswamy Stadium</td>\n",
       "      <td>Kolkata Knight Riders</td>\n",
       "      <td>Royal Challengers Bangalore</td>\n",
       "      <td>2</td>\n",
       "      <td>0</td>\n",
       "      <td>0.2</td>\n",
       "      <td>2</td>\n",
       "      <td>0</td>\n",
       "      <td>0</td>\n",
       "      <td>0</td>\n",
       "      <td>222</td>\n",
       "    </tr>\n",
       "  </tbody>\n",
       "</table>\n",
       "</div>"
      ],
      "text/plain": [
       "                   venue               bat_team                    bowl_team  \\\n",
       "0  M Chinnaswamy Stadium  Kolkata Knight Riders  Royal Challengers Bangalore   \n",
       "1  M Chinnaswamy Stadium  Kolkata Knight Riders  Royal Challengers Bangalore   \n",
       "2  M Chinnaswamy Stadium  Kolkata Knight Riders  Royal Challengers Bangalore   \n",
       "\n",
       "   runs  wickets  overs  runs_last_5  wickets_last_5  striker  non-striker  \\\n",
       "0     1        0    0.1            1               0        0            0   \n",
       "1     1        0    0.2            1               0        0            0   \n",
       "2     2        0    0.2            2               0        0            0   \n",
       "\n",
       "   total  \n",
       "0    222  \n",
       "1    222  \n",
       "2    222  "
      ]
     },
     "execution_count": 7,
     "metadata": {},
     "output_type": "execute_result"
    }
   ],
   "source": [
    "data.head(3)"
   ]
  },
  {
   "cell_type": "code",
   "execution_count": 8,
   "metadata": {
    "colab": {
     "base_uri": "https://localhost:8080/"
    },
    "id": "dc5nmfagULx9",
    "outputId": "b3c90508-0c56-4941-ebae-b6b8de02290a"
   },
   "outputs": [
    {
     "data": {
      "text/plain": [
       "venue             0\n",
       "bat_team          0\n",
       "bowl_team         0\n",
       "runs              0\n",
       "wickets           0\n",
       "overs             0\n",
       "runs_last_5       0\n",
       "wickets_last_5    0\n",
       "striker           0\n",
       "non-striker       0\n",
       "total             0\n",
       "dtype: int64"
      ]
     },
     "execution_count": 8,
     "metadata": {},
     "output_type": "execute_result"
    }
   ],
   "source": [
    "#check if null values.\n",
    "data.isnull().sum()"
   ]
  },
  {
   "cell_type": "markdown",
   "metadata": {
    "id": "pwoFYLCGCTt8"
   },
   "source": [
    "Let's add a new feature called run_rate as run rate is very helpfull in cricket and run rate also give us better understanding about current condition in cricket."
   ]
  },
  {
   "cell_type": "code",
   "execution_count": 9,
   "metadata": {
    "id": "Rw38kScaCY6N"
   },
   "outputs": [],
   "source": [
    "data['run_rate'] = data['runs']/((data['overs']-data['overs']%1)+ (data['overs']%1)*(10/6))"
   ]
  },
  {
   "cell_type": "code",
   "execution_count": 10,
   "metadata": {
    "colab": {
     "base_uri": "https://localhost:8080/"
    },
    "id": "qL2A_9ghD4Sh",
    "outputId": "2f91a988-44df-492a-f0ae-ef94dd97af42"
   },
   "outputs": [
    {
     "data": {
      "text/plain": [
       "0        6.000000\n",
       "1        3.000000\n",
       "2        6.000000\n",
       "3        4.000000\n",
       "4        3.000000\n",
       "           ...   \n",
       "76009    6.258621\n",
       "76010    6.512821\n",
       "76011    6.508475\n",
       "76012    6.504202\n",
       "76013    6.450000\n",
       "Name: run_rate, Length: 76014, dtype: float64"
      ]
     },
     "execution_count": 10,
     "metadata": {},
     "output_type": "execute_result"
    }
   ],
   "source": [
    "data[\"run_rate\"]"
   ]
  },
  {
   "cell_type": "code",
   "execution_count": 11,
   "metadata": {},
   "outputs": [
    {
     "data": {
      "text/html": [
       "<div>\n",
       "<style scoped>\n",
       "    .dataframe tbody tr th:only-of-type {\n",
       "        vertical-align: middle;\n",
       "    }\n",
       "\n",
       "    .dataframe tbody tr th {\n",
       "        vertical-align: top;\n",
       "    }\n",
       "\n",
       "    .dataframe thead th {\n",
       "        text-align: right;\n",
       "    }\n",
       "</style>\n",
       "<table border=\"1\" class=\"dataframe\">\n",
       "  <thead>\n",
       "    <tr style=\"text-align: right;\">\n",
       "      <th></th>\n",
       "      <th>runs</th>\n",
       "      <th>wickets</th>\n",
       "      <th>overs</th>\n",
       "      <th>runs_last_5</th>\n",
       "      <th>wickets_last_5</th>\n",
       "      <th>striker</th>\n",
       "      <th>non-striker</th>\n",
       "      <th>total</th>\n",
       "      <th>run_rate</th>\n",
       "    </tr>\n",
       "  </thead>\n",
       "  <tbody>\n",
       "    <tr>\n",
       "      <th>count</th>\n",
       "      <td>76014.000000</td>\n",
       "      <td>76014.000000</td>\n",
       "      <td>76014.000000</td>\n",
       "      <td>76014.000000</td>\n",
       "      <td>76014.000000</td>\n",
       "      <td>76014.000000</td>\n",
       "      <td>76014.000000</td>\n",
       "      <td>76014.000000</td>\n",
       "      <td>7.601400e+04</td>\n",
       "    </tr>\n",
       "    <tr>\n",
       "      <th>mean</th>\n",
       "      <td>74.889349</td>\n",
       "      <td>2.415844</td>\n",
       "      <td>9.783068</td>\n",
       "      <td>33.216434</td>\n",
       "      <td>1.120307</td>\n",
       "      <td>24.962283</td>\n",
       "      <td>8.869287</td>\n",
       "      <td>160.901452</td>\n",
       "      <td>inf</td>\n",
       "    </tr>\n",
       "    <tr>\n",
       "      <th>std</th>\n",
       "      <td>48.823327</td>\n",
       "      <td>2.015207</td>\n",
       "      <td>5.772587</td>\n",
       "      <td>14.914174</td>\n",
       "      <td>1.053343</td>\n",
       "      <td>20.079752</td>\n",
       "      <td>10.795742</td>\n",
       "      <td>29.246231</td>\n",
       "      <td>NaN</td>\n",
       "    </tr>\n",
       "    <tr>\n",
       "      <th>min</th>\n",
       "      <td>0.000000</td>\n",
       "      <td>0.000000</td>\n",
       "      <td>0.000000</td>\n",
       "      <td>0.000000</td>\n",
       "      <td>0.000000</td>\n",
       "      <td>0.000000</td>\n",
       "      <td>0.000000</td>\n",
       "      <td>67.000000</td>\n",
       "      <td>0.000000e+00</td>\n",
       "    </tr>\n",
       "    <tr>\n",
       "      <th>25%</th>\n",
       "      <td>34.000000</td>\n",
       "      <td>1.000000</td>\n",
       "      <td>4.600000</td>\n",
       "      <td>24.000000</td>\n",
       "      <td>0.000000</td>\n",
       "      <td>10.000000</td>\n",
       "      <td>1.000000</td>\n",
       "      <td>142.000000</td>\n",
       "      <td>6.000000e+00</td>\n",
       "    </tr>\n",
       "    <tr>\n",
       "      <th>50%</th>\n",
       "      <td>70.000000</td>\n",
       "      <td>2.000000</td>\n",
       "      <td>9.600000</td>\n",
       "      <td>34.000000</td>\n",
       "      <td>1.000000</td>\n",
       "      <td>20.000000</td>\n",
       "      <td>5.000000</td>\n",
       "      <td>162.000000</td>\n",
       "      <td>7.232877e+00</td>\n",
       "    </tr>\n",
       "    <tr>\n",
       "      <th>75%</th>\n",
       "      <td>111.000000</td>\n",
       "      <td>4.000000</td>\n",
       "      <td>14.600000</td>\n",
       "      <td>43.000000</td>\n",
       "      <td>2.000000</td>\n",
       "      <td>35.000000</td>\n",
       "      <td>13.000000</td>\n",
       "      <td>181.000000</td>\n",
       "      <td>8.400000e+00</td>\n",
       "    </tr>\n",
       "    <tr>\n",
       "      <th>max</th>\n",
       "      <td>263.000000</td>\n",
       "      <td>10.000000</td>\n",
       "      <td>19.600000</td>\n",
       "      <td>113.000000</td>\n",
       "      <td>7.000000</td>\n",
       "      <td>175.000000</td>\n",
       "      <td>109.000000</td>\n",
       "      <td>263.000000</td>\n",
       "      <td>inf</td>\n",
       "    </tr>\n",
       "  </tbody>\n",
       "</table>\n",
       "</div>"
      ],
      "text/plain": [
       "               runs       wickets         overs   runs_last_5  wickets_last_5  \\\n",
       "count  76014.000000  76014.000000  76014.000000  76014.000000    76014.000000   \n",
       "mean      74.889349      2.415844      9.783068     33.216434        1.120307   \n",
       "std       48.823327      2.015207      5.772587     14.914174        1.053343   \n",
       "min        0.000000      0.000000      0.000000      0.000000        0.000000   \n",
       "25%       34.000000      1.000000      4.600000     24.000000        0.000000   \n",
       "50%       70.000000      2.000000      9.600000     34.000000        1.000000   \n",
       "75%      111.000000      4.000000     14.600000     43.000000        2.000000   \n",
       "max      263.000000     10.000000     19.600000    113.000000        7.000000   \n",
       "\n",
       "            striker   non-striker         total      run_rate  \n",
       "count  76014.000000  76014.000000  76014.000000  7.601400e+04  \n",
       "mean      24.962283      8.869287    160.901452           inf  \n",
       "std       20.079752     10.795742     29.246231           NaN  \n",
       "min        0.000000      0.000000     67.000000  0.000000e+00  \n",
       "25%       10.000000      1.000000    142.000000  6.000000e+00  \n",
       "50%       20.000000      5.000000    162.000000  7.232877e+00  \n",
       "75%       35.000000     13.000000    181.000000  8.400000e+00  \n",
       "max      175.000000    109.000000    263.000000           inf  "
      ]
     },
     "execution_count": 11,
     "metadata": {},
     "output_type": "execute_result"
    }
   ],
   "source": [
    "detail = data.describe()\n",
    "detail"
   ]
  },
  {
   "cell_type": "code",
   "execution_count": 12,
   "metadata": {
    "colab": {
     "base_uri": "https://localhost:8080/"
    },
    "id": "EnqbXumbG_ys",
    "outputId": "06017778-eb85-42ae-def4-a4fe2d50a7f1"
   },
   "outputs": [
    {
     "data": {
      "text/plain": [
       "0"
      ]
     },
     "execution_count": 12,
     "metadata": {},
     "output_type": "execute_result"
    }
   ],
   "source": [
    "data['run_rate'].isnull().sum()"
   ]
  },
  {
   "cell_type": "markdown",
   "metadata": {
    "id": "zvI9hCvqNhNl"
   },
   "source": [
    "there is no Nan in sr but inf value is there. So Lets handle it by replacing with nan and then we can remove nan values."
   ]
  },
  {
   "cell_type": "code",
   "execution_count": 13,
   "metadata": {
    "id": "lZqiIan5HvQz"
   },
   "outputs": [],
   "source": [
    "data['run_rate'].replace([np.inf, -np.inf], np.nan, inplace=True)"
   ]
  },
  {
   "cell_type": "code",
   "execution_count": 14,
   "metadata": {
    "colab": {
     "base_uri": "https://localhost:8080/"
    },
    "id": "CuJq0oNsOJWH",
    "outputId": "1cb9d51b-6222-4235-faba-20c836e39336"
   },
   "outputs": [
    {
     "data": {
      "text/plain": [
       "37"
      ]
     },
     "execution_count": 14,
     "metadata": {},
     "output_type": "execute_result"
    }
   ],
   "source": [
    "data['run_rate'].isnull().sum()"
   ]
  },
  {
   "cell_type": "code",
   "execution_count": 15,
   "metadata": {
    "id": "Txy-1UYOOUhb"
   },
   "outputs": [],
   "source": [
    "data.dropna(inplace=True)"
   ]
  },
  {
   "cell_type": "code",
   "execution_count": 16,
   "metadata": {
    "colab": {
     "base_uri": "https://localhost:8080/"
    },
    "id": "I8vVrrDaOhM4",
    "outputId": "2b70ba9d-0e0e-4733-e06a-dbac4a8c02e9"
   },
   "outputs": [
    {
     "data": {
      "text/html": [
       "<div>\n",
       "<style scoped>\n",
       "    .dataframe tbody tr th:only-of-type {\n",
       "        vertical-align: middle;\n",
       "    }\n",
       "\n",
       "    .dataframe tbody tr th {\n",
       "        vertical-align: top;\n",
       "    }\n",
       "\n",
       "    .dataframe thead th {\n",
       "        text-align: right;\n",
       "    }\n",
       "</style>\n",
       "<table border=\"1\" class=\"dataframe\">\n",
       "  <thead>\n",
       "    <tr style=\"text-align: right;\">\n",
       "      <th></th>\n",
       "      <th>venue</th>\n",
       "      <th>bat_team</th>\n",
       "      <th>bowl_team</th>\n",
       "      <th>runs</th>\n",
       "      <th>wickets</th>\n",
       "      <th>overs</th>\n",
       "      <th>runs_last_5</th>\n",
       "      <th>wickets_last_5</th>\n",
       "      <th>striker</th>\n",
       "      <th>non-striker</th>\n",
       "      <th>total</th>\n",
       "      <th>run_rate</th>\n",
       "    </tr>\n",
       "  </thead>\n",
       "  <tbody>\n",
       "    <tr>\n",
       "      <th>0</th>\n",
       "      <td>M Chinnaswamy Stadium</td>\n",
       "      <td>Kolkata Knight Riders</td>\n",
       "      <td>Royal Challengers Bangalore</td>\n",
       "      <td>1</td>\n",
       "      <td>0</td>\n",
       "      <td>0.1</td>\n",
       "      <td>1</td>\n",
       "      <td>0</td>\n",
       "      <td>0</td>\n",
       "      <td>0</td>\n",
       "      <td>222</td>\n",
       "      <td>6.000000</td>\n",
       "    </tr>\n",
       "    <tr>\n",
       "      <th>1</th>\n",
       "      <td>M Chinnaswamy Stadium</td>\n",
       "      <td>Kolkata Knight Riders</td>\n",
       "      <td>Royal Challengers Bangalore</td>\n",
       "      <td>1</td>\n",
       "      <td>0</td>\n",
       "      <td>0.2</td>\n",
       "      <td>1</td>\n",
       "      <td>0</td>\n",
       "      <td>0</td>\n",
       "      <td>0</td>\n",
       "      <td>222</td>\n",
       "      <td>3.000000</td>\n",
       "    </tr>\n",
       "    <tr>\n",
       "      <th>2</th>\n",
       "      <td>M Chinnaswamy Stadium</td>\n",
       "      <td>Kolkata Knight Riders</td>\n",
       "      <td>Royal Challengers Bangalore</td>\n",
       "      <td>2</td>\n",
       "      <td>0</td>\n",
       "      <td>0.2</td>\n",
       "      <td>2</td>\n",
       "      <td>0</td>\n",
       "      <td>0</td>\n",
       "      <td>0</td>\n",
       "      <td>222</td>\n",
       "      <td>6.000000</td>\n",
       "    </tr>\n",
       "    <tr>\n",
       "      <th>3</th>\n",
       "      <td>M Chinnaswamy Stadium</td>\n",
       "      <td>Kolkata Knight Riders</td>\n",
       "      <td>Royal Challengers Bangalore</td>\n",
       "      <td>2</td>\n",
       "      <td>0</td>\n",
       "      <td>0.3</td>\n",
       "      <td>2</td>\n",
       "      <td>0</td>\n",
       "      <td>0</td>\n",
       "      <td>0</td>\n",
       "      <td>222</td>\n",
       "      <td>4.000000</td>\n",
       "    </tr>\n",
       "    <tr>\n",
       "      <th>4</th>\n",
       "      <td>M Chinnaswamy Stadium</td>\n",
       "      <td>Kolkata Knight Riders</td>\n",
       "      <td>Royal Challengers Bangalore</td>\n",
       "      <td>2</td>\n",
       "      <td>0</td>\n",
       "      <td>0.4</td>\n",
       "      <td>2</td>\n",
       "      <td>0</td>\n",
       "      <td>0</td>\n",
       "      <td>0</td>\n",
       "      <td>222</td>\n",
       "      <td>3.000000</td>\n",
       "    </tr>\n",
       "    <tr>\n",
       "      <th>...</th>\n",
       "      <td>...</td>\n",
       "      <td>...</td>\n",
       "      <td>...</td>\n",
       "      <td>...</td>\n",
       "      <td>...</td>\n",
       "      <td>...</td>\n",
       "      <td>...</td>\n",
       "      <td>...</td>\n",
       "      <td>...</td>\n",
       "      <td>...</td>\n",
       "      <td>...</td>\n",
       "      <td>...</td>\n",
       "    </tr>\n",
       "    <tr>\n",
       "      <th>76009</th>\n",
       "      <td>Rajiv Gandhi International Stadium, Uppal</td>\n",
       "      <td>Mumbai Indians</td>\n",
       "      <td>Rising Pune Supergiant</td>\n",
       "      <td>121</td>\n",
       "      <td>7</td>\n",
       "      <td>19.2</td>\n",
       "      <td>40</td>\n",
       "      <td>0</td>\n",
       "      <td>40</td>\n",
       "      <td>12</td>\n",
       "      <td>129</td>\n",
       "      <td>6.258621</td>\n",
       "    </tr>\n",
       "    <tr>\n",
       "      <th>76010</th>\n",
       "      <td>Rajiv Gandhi International Stadium, Uppal</td>\n",
       "      <td>Mumbai Indians</td>\n",
       "      <td>Rising Pune Supergiant</td>\n",
       "      <td>127</td>\n",
       "      <td>7</td>\n",
       "      <td>19.3</td>\n",
       "      <td>46</td>\n",
       "      <td>0</td>\n",
       "      <td>46</td>\n",
       "      <td>12</td>\n",
       "      <td>129</td>\n",
       "      <td>6.512821</td>\n",
       "    </tr>\n",
       "    <tr>\n",
       "      <th>76011</th>\n",
       "      <td>Rajiv Gandhi International Stadium, Uppal</td>\n",
       "      <td>Mumbai Indians</td>\n",
       "      <td>Rising Pune Supergiant</td>\n",
       "      <td>128</td>\n",
       "      <td>7</td>\n",
       "      <td>19.4</td>\n",
       "      <td>47</td>\n",
       "      <td>0</td>\n",
       "      <td>47</td>\n",
       "      <td>12</td>\n",
       "      <td>129</td>\n",
       "      <td>6.508475</td>\n",
       "    </tr>\n",
       "    <tr>\n",
       "      <th>76012</th>\n",
       "      <td>Rajiv Gandhi International Stadium, Uppal</td>\n",
       "      <td>Mumbai Indians</td>\n",
       "      <td>Rising Pune Supergiant</td>\n",
       "      <td>129</td>\n",
       "      <td>7</td>\n",
       "      <td>19.5</td>\n",
       "      <td>48</td>\n",
       "      <td>0</td>\n",
       "      <td>47</td>\n",
       "      <td>13</td>\n",
       "      <td>129</td>\n",
       "      <td>6.504202</td>\n",
       "    </tr>\n",
       "    <tr>\n",
       "      <th>76013</th>\n",
       "      <td>Rajiv Gandhi International Stadium, Uppal</td>\n",
       "      <td>Mumbai Indians</td>\n",
       "      <td>Rising Pune Supergiant</td>\n",
       "      <td>129</td>\n",
       "      <td>8</td>\n",
       "      <td>19.6</td>\n",
       "      <td>47</td>\n",
       "      <td>1</td>\n",
       "      <td>47</td>\n",
       "      <td>13</td>\n",
       "      <td>129</td>\n",
       "      <td>6.450000</td>\n",
       "    </tr>\n",
       "  </tbody>\n",
       "</table>\n",
       "<p>75977 rows × 12 columns</p>\n",
       "</div>"
      ],
      "text/plain": [
       "                                           venue               bat_team  \\\n",
       "0                          M Chinnaswamy Stadium  Kolkata Knight Riders   \n",
       "1                          M Chinnaswamy Stadium  Kolkata Knight Riders   \n",
       "2                          M Chinnaswamy Stadium  Kolkata Knight Riders   \n",
       "3                          M Chinnaswamy Stadium  Kolkata Knight Riders   \n",
       "4                          M Chinnaswamy Stadium  Kolkata Knight Riders   \n",
       "...                                          ...                    ...   \n",
       "76009  Rajiv Gandhi International Stadium, Uppal         Mumbai Indians   \n",
       "76010  Rajiv Gandhi International Stadium, Uppal         Mumbai Indians   \n",
       "76011  Rajiv Gandhi International Stadium, Uppal         Mumbai Indians   \n",
       "76012  Rajiv Gandhi International Stadium, Uppal         Mumbai Indians   \n",
       "76013  Rajiv Gandhi International Stadium, Uppal         Mumbai Indians   \n",
       "\n",
       "                         bowl_team  runs  wickets  overs  runs_last_5  \\\n",
       "0      Royal Challengers Bangalore     1        0    0.1            1   \n",
       "1      Royal Challengers Bangalore     1        0    0.2            1   \n",
       "2      Royal Challengers Bangalore     2        0    0.2            2   \n",
       "3      Royal Challengers Bangalore     2        0    0.3            2   \n",
       "4      Royal Challengers Bangalore     2        0    0.4            2   \n",
       "...                            ...   ...      ...    ...          ...   \n",
       "76009       Rising Pune Supergiant   121        7   19.2           40   \n",
       "76010       Rising Pune Supergiant   127        7   19.3           46   \n",
       "76011       Rising Pune Supergiant   128        7   19.4           47   \n",
       "76012       Rising Pune Supergiant   129        7   19.5           48   \n",
       "76013       Rising Pune Supergiant   129        8   19.6           47   \n",
       "\n",
       "       wickets_last_5  striker  non-striker  total  run_rate  \n",
       "0                   0        0            0    222  6.000000  \n",
       "1                   0        0            0    222  3.000000  \n",
       "2                   0        0            0    222  6.000000  \n",
       "3                   0        0            0    222  4.000000  \n",
       "4                   0        0            0    222  3.000000  \n",
       "...               ...      ...          ...    ...       ...  \n",
       "76009               0       40           12    129  6.258621  \n",
       "76010               0       46           12    129  6.512821  \n",
       "76011               0       47           12    129  6.508475  \n",
       "76012               0       47           13    129  6.504202  \n",
       "76013               1       47           13    129  6.450000  \n",
       "\n",
       "[75977 rows x 12 columns]"
      ]
     },
     "execution_count": 16,
     "metadata": {},
     "output_type": "execute_result"
    }
   ],
   "source": [
    "data"
   ]
  },
  {
   "cell_type": "markdown",
   "metadata": {},
   "source": [
    "Lets Plot histogram for run_rate"
   ]
  },
  {
   "cell_type": "code",
   "execution_count": 17,
   "metadata": {
    "colab": {
     "base_uri": "https://localhost:8080/"
    },
    "id": "j8iviC8OH5H2",
    "outputId": "15ff623e-d8d4-4884-edc1-9df27434f4a8"
   },
   "outputs": [
    {
     "data": {
      "image/png": "[encoded data removed]",
      "text/plain": [
       "<Figure size 432x288 with 1 Axes>"
      ]
     },
     "metadata": {
      "needs_background": "light"
     },
     "output_type": "display_data"
    }
   ],
   "source": [
    "plt.hist(data[np.isfinite(data['run_rate'])].values)\n",
    "plt.show()"
   ]
  },
  {
   "cell_type": "code",
   "execution_count": 18,
   "metadata": {
    "colab": {
     "base_uri": "https://localhost:8080/"
    },
    "id": "koVGCsQAId-h",
    "outputId": "73b1238a-c356-4fc6-f00b-ff7e5862a6ac"
   },
   "outputs": [
    {
     "data": {
      "text/plain": [
       "venue                Wankhede Stadium\n",
       "bat_team          Sunrisers Hyderabad\n",
       "bowl_team         Sunrisers Hyderabad\n",
       "runs                              263\n",
       "wickets                            10\n",
       "overs                            19.6\n",
       "runs_last_5                       113\n",
       "wickets_last_5                      7\n",
       "striker                           175\n",
       "non-striker                       109\n",
       "total                             263\n",
       "run_rate                           66\n",
       "dtype: object"
      ]
     },
     "execution_count": 18,
     "metadata": {},
     "output_type": "execute_result"
    }
   ],
   "source": [
    "data.max()"
   ]
  },
  {
   "cell_type": "markdown",
   "metadata": {
    "id": "Ua-12UPqjWtA"
   },
   "source": [
    "## Categorical Encoding"
   ]
  },
  {
   "cell_type": "markdown",
   "metadata": {
    "id": "i7Q13MHD4vcr"
   },
   "source": [
    "Both practically and logically we can think Columns such as \"venue\", \"bat_team\" and \"bowl_team\" are important for the results. They can be encoded using OneHot Encoder.\n",
    "But that will add up a lot many new columns because it create 2 columns for one unique values. So there can be 2*number_of_unique_values.\n",
    "Therefore it may create a risk of overfitting. \n",
    "So Lets use binary encoding.Also according to some research paper, when we use same model and data, binary encoding gives as good a result as OneHotEncoding.\n",
    "So in order to avoid making too many features as a result of encoding, we decided to go with BinaryEncoder for 'venue', 'bat_team' and 'bowl_team'."
   ]
  },
  {
   "cell_type": "code",
   "execution_count": 19,
   "metadata": {
    "colab": {
     "base_uri": "https://localhost:8080/"
    },
    "id": "wiHKNAOMV5bQ",
    "outputId": "4ed415b2-7086-4121-8277-727c8e675e2d"
   },
   "outputs": [
    {
     "data": {
      "text/html": [
       "<div>\n",
       "<style scoped>\n",
       "    .dataframe tbody tr th:only-of-type {\n",
       "        vertical-align: middle;\n",
       "    }\n",
       "\n",
       "    .dataframe tbody tr th {\n",
       "        vertical-align: top;\n",
       "    }\n",
       "\n",
       "    .dataframe thead th {\n",
       "        text-align: right;\n",
       "    }\n",
       "</style>\n",
       "<table border=\"1\" class=\"dataframe\">\n",
       "  <thead>\n",
       "    <tr style=\"text-align: right;\">\n",
       "      <th></th>\n",
       "      <th>venue</th>\n",
       "      <th>bat_team</th>\n",
       "      <th>bowl_team</th>\n",
       "      <th>runs</th>\n",
       "      <th>wickets</th>\n",
       "      <th>overs</th>\n",
       "      <th>runs_last_5</th>\n",
       "      <th>wickets_last_5</th>\n",
       "      <th>striker</th>\n",
       "      <th>non-striker</th>\n",
       "      <th>total</th>\n",
       "      <th>run_rate</th>\n",
       "      <th>venue_0</th>\n",
       "      <th>venue_1</th>\n",
       "      <th>venue_2</th>\n",
       "      <th>venue_3</th>\n",
       "      <th>venue_4</th>\n",
       "      <th>venue_5</th>\n",
       "      <th>venue_6</th>\n",
       "    </tr>\n",
       "  </thead>\n",
       "  <tbody>\n",
       "    <tr>\n",
       "      <th>0</th>\n",
       "      <td>M Chinnaswamy Stadium</td>\n",
       "      <td>Kolkata Knight Riders</td>\n",
       "      <td>Royal Challengers Bangalore</td>\n",
       "      <td>1</td>\n",
       "      <td>0</td>\n",
       "      <td>0.1</td>\n",
       "      <td>1</td>\n",
       "      <td>0</td>\n",
       "      <td>0</td>\n",
       "      <td>0</td>\n",
       "      <td>222</td>\n",
       "      <td>6.0</td>\n",
       "      <td>0</td>\n",
       "      <td>0</td>\n",
       "      <td>0</td>\n",
       "      <td>0</td>\n",
       "      <td>0</td>\n",
       "      <td>0</td>\n",
       "      <td>1</td>\n",
       "    </tr>\n",
       "    <tr>\n",
       "      <th>1</th>\n",
       "      <td>M Chinnaswamy Stadium</td>\n",
       "      <td>Kolkata Knight Riders</td>\n",
       "      <td>Royal Challengers Bangalore</td>\n",
       "      <td>1</td>\n",
       "      <td>0</td>\n",
       "      <td>0.2</td>\n",
       "      <td>1</td>\n",
       "      <td>0</td>\n",
       "      <td>0</td>\n",
       "      <td>0</td>\n",
       "      <td>222</td>\n",
       "      <td>3.0</td>\n",
       "      <td>0</td>\n",
       "      <td>0</td>\n",
       "      <td>0</td>\n",
       "      <td>0</td>\n",
       "      <td>0</td>\n",
       "      <td>0</td>\n",
       "      <td>1</td>\n",
       "    </tr>\n",
       "    <tr>\n",
       "      <th>2</th>\n",
       "      <td>M Chinnaswamy Stadium</td>\n",
       "      <td>Kolkata Knight Riders</td>\n",
       "      <td>Royal Challengers Bangalore</td>\n",
       "      <td>2</td>\n",
       "      <td>0</td>\n",
       "      <td>0.2</td>\n",
       "      <td>2</td>\n",
       "      <td>0</td>\n",
       "      <td>0</td>\n",
       "      <td>0</td>\n",
       "      <td>222</td>\n",
       "      <td>6.0</td>\n",
       "      <td>0</td>\n",
       "      <td>0</td>\n",
       "      <td>0</td>\n",
       "      <td>0</td>\n",
       "      <td>0</td>\n",
       "      <td>0</td>\n",
       "      <td>1</td>\n",
       "    </tr>\n",
       "    <tr>\n",
       "      <th>3</th>\n",
       "      <td>M Chinnaswamy Stadium</td>\n",
       "      <td>Kolkata Knight Riders</td>\n",
       "      <td>Royal Challengers Bangalore</td>\n",
       "      <td>2</td>\n",
       "      <td>0</td>\n",
       "      <td>0.3</td>\n",
       "      <td>2</td>\n",
       "      <td>0</td>\n",
       "      <td>0</td>\n",
       "      <td>0</td>\n",
       "      <td>222</td>\n",
       "      <td>4.0</td>\n",
       "      <td>0</td>\n",
       "      <td>0</td>\n",
       "      <td>0</td>\n",
       "      <td>0</td>\n",
       "      <td>0</td>\n",
       "      <td>0</td>\n",
       "      <td>1</td>\n",
       "    </tr>\n",
       "  </tbody>\n",
       "</table>\n",
       "</div>"
      ],
      "text/plain": [
       "                   venue               bat_team                    bowl_team  \\\n",
       "0  M Chinnaswamy Stadium  Kolkata Knight Riders  Royal Challengers Bangalore   \n",
       "1  M Chinnaswamy Stadium  Kolkata Knight Riders  Royal Challengers Bangalore   \n",
       "2  M Chinnaswamy Stadium  Kolkata Knight Riders  Royal Challengers Bangalore   \n",
       "3  M Chinnaswamy Stadium  Kolkata Knight Riders  Royal Challengers Bangalore   \n",
       "\n",
       "   runs  wickets  overs  runs_last_5  wickets_last_5  striker  non-striker  \\\n",
       "0     1        0    0.1            1               0        0            0   \n",
       "1     1        0    0.2            1               0        0            0   \n",
       "2     2        0    0.2            2               0        0            0   \n",
       "3     2        0    0.3            2               0        0            0   \n",
       "\n",
       "   total  run_rate  venue_0  venue_1  venue_2  venue_3  venue_4  venue_5  \\\n",
       "0    222       6.0        0        0        0        0        0        0   \n",
       "1    222       3.0        0        0        0        0        0        0   \n",
       "2    222       6.0        0        0        0        0        0        0   \n",
       "3    222       4.0        0        0        0        0        0        0   \n",
       "\n",
       "   venue_6  \n",
       "0        1  \n",
       "1        1  \n",
       "2        1  \n",
       "3        1  "
      ]
     },
     "execution_count": 19,
     "metadata": {},
     "output_type": "execute_result"
    }
   ],
   "source": [
    "#Lets first encode for venue\n",
    "encoder = ce.BinaryEncoder(['venue'])\n",
    "databin = encoder.fit_transform(data['venue'])\n",
    "data = pd.concat([data, databin], axis=1)\n",
    "data.head(4)"
   ]
  },
  {
   "cell_type": "code",
   "execution_count": 20,
   "metadata": {},
   "outputs": [
    {
     "name": "stdout",
     "output_type": "stream",
     "text": [
      "Index(['venue', 'bat_team', 'bowl_team', 'runs', 'wickets', 'overs',\n",
      "       'runs_last_5', 'wickets_last_5', 'striker', 'non-striker', 'total',\n",
      "       'run_rate', 'venue_0', 'venue_1', 'venue_2', 'venue_3', 'venue_4',\n",
      "       'venue_5', 'venue_6'],\n",
      "      dtype='object')\n"
     ]
    }
   ],
   "source": [
    "print(data.columns)"
   ]
  },
  {
   "cell_type": "raw",
   "metadata": {},
   "source": [
    "So as we can see after encoding only 26 columns that we get. "
   ]
  },
  {
   "cell_type": "code",
   "execution_count": 21,
   "metadata": {
    "colab": {
     "base_uri": "https://localhost:8080/"
    },
    "id": "4yL5SgnxUTbV",
    "outputId": "ee34bad4-1d60-481c-bab9-ea8478d24051"
   },
   "outputs": [
    {
     "name": "stdout",
     "output_type": "stream",
     "text": [
      "<class 'pandas.core.frame.DataFrame'>\n",
      "Int64Index: 75977 entries, 0 to 76013\n",
      "Data columns (total 19 columns):\n",
      " #   Column          Non-Null Count  Dtype  \n",
      "---  ------          --------------  -----  \n",
      " 0   venue           75977 non-null  object \n",
      " 1   bat_team        75977 non-null  object \n",
      " 2   bowl_team       75977 non-null  object \n",
      " 3   runs            75977 non-null  int64  \n",
      " 4   wickets         75977 non-null  int64  \n",
      " 5   overs           75977 non-null  float64\n",
      " 6   runs_last_5     75977 non-null  int64  \n",
      " 7   wickets_last_5  75977 non-null  int64  \n",
      " 8   striker         75977 non-null  int64  \n",
      " 9   non-striker     75977 non-null  int64  \n",
      " 10  total           75977 non-null  int64  \n",
      " 11  run_rate        75977 non-null  float64\n",
      " 12  venue_0         75977 non-null  int64  \n",
      " 13  venue_1         75977 non-null  int64  \n",
      " 14  venue_2         75977 non-null  int64  \n",
      " 15  venue_3         75977 non-null  int64  \n",
      " 16  venue_4         75977 non-null  int64  \n",
      " 17  venue_5         75977 non-null  int64  \n",
      " 18  venue_6         75977 non-null  int64  \n",
      "dtypes: float64(2), int64(14), object(3)\n",
      "memory usage: 11.6+ MB\n"
     ]
    }
   ],
   "source": [
    "data.info()"
   ]
  },
  {
   "cell_type": "code",
   "execution_count": 22,
   "metadata": {
    "colab": {
     "base_uri": "https://localhost:8080/"
    },
    "id": "yzinOWZTYqm_",
    "outputId": "0f8fd845-24b3-410f-b5f0-d4bf42b06c4d"
   },
   "outputs": [
    {
     "data": {
      "text/html": [
       "<div>\n",
       "<style scoped>\n",
       "    .dataframe tbody tr th:only-of-type {\n",
       "        vertical-align: middle;\n",
       "    }\n",
       "\n",
       "    .dataframe tbody tr th {\n",
       "        vertical-align: top;\n",
       "    }\n",
       "\n",
       "    .dataframe thead th {\n",
       "        text-align: right;\n",
       "    }\n",
       "</style>\n",
       "<table border=\"1\" class=\"dataframe\">\n",
       "  <thead>\n",
       "    <tr style=\"text-align: right;\">\n",
       "      <th></th>\n",
       "      <th>venue</th>\n",
       "      <th>bat_team</th>\n",
       "      <th>bowl_team</th>\n",
       "      <th>runs</th>\n",
       "      <th>wickets</th>\n",
       "      <th>overs</th>\n",
       "      <th>runs_last_5</th>\n",
       "      <th>wickets_last_5</th>\n",
       "      <th>striker</th>\n",
       "      <th>non-striker</th>\n",
       "      <th>...</th>\n",
       "      <th>venue_2</th>\n",
       "      <th>venue_3</th>\n",
       "      <th>venue_4</th>\n",
       "      <th>venue_5</th>\n",
       "      <th>venue_6</th>\n",
       "      <th>bat_team_0</th>\n",
       "      <th>bat_team_1</th>\n",
       "      <th>bat_team_2</th>\n",
       "      <th>bat_team_3</th>\n",
       "      <th>bat_team_4</th>\n",
       "    </tr>\n",
       "  </thead>\n",
       "  <tbody>\n",
       "    <tr>\n",
       "      <th>0</th>\n",
       "      <td>M Chinnaswamy Stadium</td>\n",
       "      <td>Kolkata Knight Riders</td>\n",
       "      <td>Royal Challengers Bangalore</td>\n",
       "      <td>1</td>\n",
       "      <td>0</td>\n",
       "      <td>0.1</td>\n",
       "      <td>1</td>\n",
       "      <td>0</td>\n",
       "      <td>0</td>\n",
       "      <td>0</td>\n",
       "      <td>...</td>\n",
       "      <td>0</td>\n",
       "      <td>0</td>\n",
       "      <td>0</td>\n",
       "      <td>0</td>\n",
       "      <td>1</td>\n",
       "      <td>0</td>\n",
       "      <td>0</td>\n",
       "      <td>0</td>\n",
       "      <td>0</td>\n",
       "      <td>1</td>\n",
       "    </tr>\n",
       "    <tr>\n",
       "      <th>1</th>\n",
       "      <td>M Chinnaswamy Stadium</td>\n",
       "      <td>Kolkata Knight Riders</td>\n",
       "      <td>Royal Challengers Bangalore</td>\n",
       "      <td>1</td>\n",
       "      <td>0</td>\n",
       "      <td>0.2</td>\n",
       "      <td>1</td>\n",
       "      <td>0</td>\n",
       "      <td>0</td>\n",
       "      <td>0</td>\n",
       "      <td>...</td>\n",
       "      <td>0</td>\n",
       "      <td>0</td>\n",
       "      <td>0</td>\n",
       "      <td>0</td>\n",
       "      <td>1</td>\n",
       "      <td>0</td>\n",
       "      <td>0</td>\n",
       "      <td>0</td>\n",
       "      <td>0</td>\n",
       "      <td>1</td>\n",
       "    </tr>\n",
       "    <tr>\n",
       "      <th>2</th>\n",
       "      <td>M Chinnaswamy Stadium</td>\n",
       "      <td>Kolkata Knight Riders</td>\n",
       "      <td>Royal Challengers Bangalore</td>\n",
       "      <td>2</td>\n",
       "      <td>0</td>\n",
       "      <td>0.2</td>\n",
       "      <td>2</td>\n",
       "      <td>0</td>\n",
       "      <td>0</td>\n",
       "      <td>0</td>\n",
       "      <td>...</td>\n",
       "      <td>0</td>\n",
       "      <td>0</td>\n",
       "      <td>0</td>\n",
       "      <td>0</td>\n",
       "      <td>1</td>\n",
       "      <td>0</td>\n",
       "      <td>0</td>\n",
       "      <td>0</td>\n",
       "      <td>0</td>\n",
       "      <td>1</td>\n",
       "    </tr>\n",
       "    <tr>\n",
       "      <th>3</th>\n",
       "      <td>M Chinnaswamy Stadium</td>\n",
       "      <td>Kolkata Knight Riders</td>\n",
       "      <td>Royal Challengers Bangalore</td>\n",
       "      <td>2</td>\n",
       "      <td>0</td>\n",
       "      <td>0.3</td>\n",
       "      <td>2</td>\n",
       "      <td>0</td>\n",
       "      <td>0</td>\n",
       "      <td>0</td>\n",
       "      <td>...</td>\n",
       "      <td>0</td>\n",
       "      <td>0</td>\n",
       "      <td>0</td>\n",
       "      <td>0</td>\n",
       "      <td>1</td>\n",
       "      <td>0</td>\n",
       "      <td>0</td>\n",
       "      <td>0</td>\n",
       "      <td>0</td>\n",
       "      <td>1</td>\n",
       "    </tr>\n",
       "    <tr>\n",
       "      <th>4</th>\n",
       "      <td>M Chinnaswamy Stadium</td>\n",
       "      <td>Kolkata Knight Riders</td>\n",
       "      <td>Royal Challengers Bangalore</td>\n",
       "      <td>2</td>\n",
       "      <td>0</td>\n",
       "      <td>0.4</td>\n",
       "      <td>2</td>\n",
       "      <td>0</td>\n",
       "      <td>0</td>\n",
       "      <td>0</td>\n",
       "      <td>...</td>\n",
       "      <td>0</td>\n",
       "      <td>0</td>\n",
       "      <td>0</td>\n",
       "      <td>0</td>\n",
       "      <td>1</td>\n",
       "      <td>0</td>\n",
       "      <td>0</td>\n",
       "      <td>0</td>\n",
       "      <td>0</td>\n",
       "      <td>1</td>\n",
       "    </tr>\n",
       "    <tr>\n",
       "      <th>...</th>\n",
       "      <td>...</td>\n",
       "      <td>...</td>\n",
       "      <td>...</td>\n",
       "      <td>...</td>\n",
       "      <td>...</td>\n",
       "      <td>...</td>\n",
       "      <td>...</td>\n",
       "      <td>...</td>\n",
       "      <td>...</td>\n",
       "      <td>...</td>\n",
       "      <td>...</td>\n",
       "      <td>...</td>\n",
       "      <td>...</td>\n",
       "      <td>...</td>\n",
       "      <td>...</td>\n",
       "      <td>...</td>\n",
       "      <td>...</td>\n",
       "      <td>...</td>\n",
       "      <td>...</td>\n",
       "      <td>...</td>\n",
       "      <td>...</td>\n",
       "    </tr>\n",
       "    <tr>\n",
       "      <th>76009</th>\n",
       "      <td>Rajiv Gandhi International Stadium, Uppal</td>\n",
       "      <td>Mumbai Indians</td>\n",
       "      <td>Rising Pune Supergiant</td>\n",
       "      <td>121</td>\n",
       "      <td>7</td>\n",
       "      <td>19.2</td>\n",
       "      <td>40</td>\n",
       "      <td>0</td>\n",
       "      <td>40</td>\n",
       "      <td>12</td>\n",
       "      <td>...</td>\n",
       "      <td>0</td>\n",
       "      <td>0</td>\n",
       "      <td>1</td>\n",
       "      <td>1</td>\n",
       "      <td>1</td>\n",
       "      <td>0</td>\n",
       "      <td>0</td>\n",
       "      <td>1</td>\n",
       "      <td>0</td>\n",
       "      <td>0</td>\n",
       "    </tr>\n",
       "    <tr>\n",
       "      <th>76010</th>\n",
       "      <td>Rajiv Gandhi International Stadium, Uppal</td>\n",
       "      <td>Mumbai Indians</td>\n",
       "      <td>Rising Pune Supergiant</td>\n",
       "      <td>127</td>\n",
       "      <td>7</td>\n",
       "      <td>19.3</td>\n",
       "      <td>46</td>\n",
       "      <td>0</td>\n",
       "      <td>46</td>\n",
       "      <td>12</td>\n",
       "      <td>...</td>\n",
       "      <td>0</td>\n",
       "      <td>0</td>\n",
       "      <td>1</td>\n",
       "      <td>1</td>\n",
       "      <td>1</td>\n",
       "      <td>0</td>\n",
       "      <td>0</td>\n",
       "      <td>1</td>\n",
       "      <td>0</td>\n",
       "      <td>0</td>\n",
       "    </tr>\n",
       "    <tr>\n",
       "      <th>76011</th>\n",
       "      <td>Rajiv Gandhi International Stadium, Uppal</td>\n",
       "      <td>Mumbai Indians</td>\n",
       "      <td>Rising Pune Supergiant</td>\n",
       "      <td>128</td>\n",
       "      <td>7</td>\n",
       "      <td>19.4</td>\n",
       "      <td>47</td>\n",
       "      <td>0</td>\n",
       "      <td>47</td>\n",
       "      <td>12</td>\n",
       "      <td>...</td>\n",
       "      <td>0</td>\n",
       "      <td>0</td>\n",
       "      <td>1</td>\n",
       "      <td>1</td>\n",
       "      <td>1</td>\n",
       "      <td>0</td>\n",
       "      <td>0</td>\n",
       "      <td>1</td>\n",
       "      <td>0</td>\n",
       "      <td>0</td>\n",
       "    </tr>\n",
       "    <tr>\n",
       "      <th>76012</th>\n",
       "      <td>Rajiv Gandhi International Stadium, Uppal</td>\n",
       "      <td>Mumbai Indians</td>\n",
       "      <td>Rising Pune Supergiant</td>\n",
       "      <td>129</td>\n",
       "      <td>7</td>\n",
       "      <td>19.5</td>\n",
       "      <td>48</td>\n",
       "      <td>0</td>\n",
       "      <td>47</td>\n",
       "      <td>13</td>\n",
       "      <td>...</td>\n",
       "      <td>0</td>\n",
       "      <td>0</td>\n",
       "      <td>1</td>\n",
       "      <td>1</td>\n",
       "      <td>1</td>\n",
       "      <td>0</td>\n",
       "      <td>0</td>\n",
       "      <td>1</td>\n",
       "      <td>0</td>\n",
       "      <td>0</td>\n",
       "    </tr>\n",
       "    <tr>\n",
       "      <th>76013</th>\n",
       "      <td>Rajiv Gandhi International Stadium, Uppal</td>\n",
       "      <td>Mumbai Indians</td>\n",
       "      <td>Rising Pune Supergiant</td>\n",
       "      <td>129</td>\n",
       "      <td>8</td>\n",
       "      <td>19.6</td>\n",
       "      <td>47</td>\n",
       "      <td>1</td>\n",
       "      <td>47</td>\n",
       "      <td>13</td>\n",
       "      <td>...</td>\n",
       "      <td>0</td>\n",
       "      <td>0</td>\n",
       "      <td>1</td>\n",
       "      <td>1</td>\n",
       "      <td>1</td>\n",
       "      <td>0</td>\n",
       "      <td>0</td>\n",
       "      <td>1</td>\n",
       "      <td>0</td>\n",
       "      <td>0</td>\n",
       "    </tr>\n",
       "  </tbody>\n",
       "</table>\n",
       "<p>75977 rows × 24 columns</p>\n",
       "</div>"
      ],
      "text/plain": [
       "                                           venue               bat_team  \\\n",
       "0                          M Chinnaswamy Stadium  Kolkata Knight Riders   \n",
       "1                          M Chinnaswamy Stadium  Kolkata Knight Riders   \n",
       "2                          M Chinnaswamy Stadium  Kolkata Knight Riders   \n",
       "3                          M Chinnaswamy Stadium  Kolkata Knight Riders   \n",
       "4                          M Chinnaswamy Stadium  Kolkata Knight Riders   \n",
       "...                                          ...                    ...   \n",
       "76009  Rajiv Gandhi International Stadium, Uppal         Mumbai Indians   \n",
       "76010  Rajiv Gandhi International Stadium, Uppal         Mumbai Indians   \n",
       "76011  Rajiv Gandhi International Stadium, Uppal         Mumbai Indians   \n",
       "76012  Rajiv Gandhi International Stadium, Uppal         Mumbai Indians   \n",
       "76013  Rajiv Gandhi International Stadium, Uppal         Mumbai Indians   \n",
       "\n",
       "                         bowl_team  runs  wickets  overs  runs_last_5  \\\n",
       "0      Royal Challengers Bangalore     1        0    0.1            1   \n",
       "1      Royal Challengers Bangalore     1        0    0.2            1   \n",
       "2      Royal Challengers Bangalore     2        0    0.2            2   \n",
       "3      Royal Challengers Bangalore     2        0    0.3            2   \n",
       "4      Royal Challengers Bangalore     2        0    0.4            2   \n",
       "...                            ...   ...      ...    ...          ...   \n",
       "76009       Rising Pune Supergiant   121        7   19.2           40   \n",
       "76010       Rising Pune Supergiant   127        7   19.3           46   \n",
       "76011       Rising Pune Supergiant   128        7   19.4           47   \n",
       "76012       Rising Pune Supergiant   129        7   19.5           48   \n",
       "76013       Rising Pune Supergiant   129        8   19.6           47   \n",
       "\n",
       "       wickets_last_5  striker  non-striker  ...  venue_2  venue_3  venue_4  \\\n",
       "0                   0        0            0  ...        0        0        0   \n",
       "1                   0        0            0  ...        0        0        0   \n",
       "2                   0        0            0  ...        0        0        0   \n",
       "3                   0        0            0  ...        0        0        0   \n",
       "4                   0        0            0  ...        0        0        0   \n",
       "...               ...      ...          ...  ...      ...      ...      ...   \n",
       "76009               0       40           12  ...        0        0        1   \n",
       "76010               0       46           12  ...        0        0        1   \n",
       "76011               0       47           12  ...        0        0        1   \n",
       "76012               0       47           13  ...        0        0        1   \n",
       "76013               1       47           13  ...        0        0        1   \n",
       "\n",
       "       venue_5  venue_6  bat_team_0  bat_team_1  bat_team_2  bat_team_3  \\\n",
       "0            0        1           0           0           0           0   \n",
       "1            0        1           0           0           0           0   \n",
       "2            0        1           0           0           0           0   \n",
       "3            0        1           0           0           0           0   \n",
       "4            0        1           0           0           0           0   \n",
       "...        ...      ...         ...         ...         ...         ...   \n",
       "76009        1        1           0           0           1           0   \n",
       "76010        1        1           0           0           1           0   \n",
       "76011        1        1           0           0           1           0   \n",
       "76012        1        1           0           0           1           0   \n",
       "76013        1        1           0           0           1           0   \n",
       "\n",
       "       bat_team_4  \n",
       "0               1  \n",
       "1               1  \n",
       "2               1  \n",
       "3               1  \n",
       "4               1  \n",
       "...           ...  \n",
       "76009           0  \n",
       "76010           0  \n",
       "76011           0  \n",
       "76012           0  \n",
       "76013           0  \n",
       "\n",
       "[75977 rows x 24 columns]"
      ]
     },
     "execution_count": 22,
     "metadata": {},
     "output_type": "execute_result"
    }
   ],
   "source": [
    "# Now lets encode for bat teams as well\n",
    "\n",
    "import category_encoders as ce\n",
    "encoder = ce.BinaryEncoder(['bat_team'])\n",
    "databin = encoder.fit_transform(data['bat_team'])\n",
    "data = pd.concat([data, databin], axis=1)\n",
    "data"
   ]
  },
  {
   "cell_type": "code",
   "execution_count": 23,
   "metadata": {
    "colab": {
     "base_uri": "https://localhost:8080/"
    },
    "id": "IOVKqYUuUYgp",
    "outputId": "c982bed5-c0a5-4595-c284-c2fbbdafd4e9"
   },
   "outputs": [
    {
     "name": "stdout",
     "output_type": "stream",
     "text": [
      "<class 'pandas.core.frame.DataFrame'>\n",
      "Int64Index: 75977 entries, 0 to 76013\n",
      "Data columns (total 24 columns):\n",
      " #   Column          Non-Null Count  Dtype  \n",
      "---  ------          --------------  -----  \n",
      " 0   venue           75977 non-null  object \n",
      " 1   bat_team        75977 non-null  object \n",
      " 2   bowl_team       75977 non-null  object \n",
      " 3   runs            75977 non-null  int64  \n",
      " 4   wickets         75977 non-null  int64  \n",
      " 5   overs           75977 non-null  float64\n",
      " 6   runs_last_5     75977 non-null  int64  \n",
      " 7   wickets_last_5  75977 non-null  int64  \n",
      " 8   striker         75977 non-null  int64  \n",
      " 9   non-striker     75977 non-null  int64  \n",
      " 10  total           75977 non-null  int64  \n",
      " 11  run_rate        75977 non-null  float64\n",
      " 12  venue_0         75977 non-null  int64  \n",
      " 13  venue_1         75977 non-null  int64  \n",
      " 14  venue_2         75977 non-null  int64  \n",
      " 15  venue_3         75977 non-null  int64  \n",
      " 16  venue_4         75977 non-null  int64  \n",
      " 17  venue_5         75977 non-null  int64  \n",
      " 18  venue_6         75977 non-null  int64  \n",
      " 19  bat_team_0      75977 non-null  int64  \n",
      " 20  bat_team_1      75977 non-null  int64  \n",
      " 21  bat_team_2      75977 non-null  int64  \n",
      " 22  bat_team_3      75977 non-null  int64  \n",
      " 23  bat_team_4      75977 non-null  int64  \n",
      "dtypes: float64(2), int64(19), object(3)\n",
      "memory usage: 14.5+ MB\n"
     ]
    }
   ],
   "source": [
    "data.info()"
   ]
  },
  {
   "cell_type": "code",
   "execution_count": 24,
   "metadata": {
    "colab": {
     "base_uri": "https://localhost:8080/"
    },
    "id": "oCHULdo_Y2B1",
    "outputId": "61c242ec-0819-4dad-9014-da51fc3ce673"
   },
   "outputs": [
    {
     "data": {
      "text/html": [
       "<div>\n",
       "<style scoped>\n",
       "    .dataframe tbody tr th:only-of-type {\n",
       "        vertical-align: middle;\n",
       "    }\n",
       "\n",
       "    .dataframe tbody tr th {\n",
       "        vertical-align: top;\n",
       "    }\n",
       "\n",
       "    .dataframe thead th {\n",
       "        text-align: right;\n",
       "    }\n",
       "</style>\n",
       "<table border=\"1\" class=\"dataframe\">\n",
       "  <thead>\n",
       "    <tr style=\"text-align: right;\">\n",
       "      <th></th>\n",
       "      <th>venue</th>\n",
       "      <th>bat_team</th>\n",
       "      <th>bowl_team</th>\n",
       "      <th>runs</th>\n",
       "      <th>wickets</th>\n",
       "      <th>overs</th>\n",
       "      <th>runs_last_5</th>\n",
       "      <th>wickets_last_5</th>\n",
       "      <th>striker</th>\n",
       "      <th>non-striker</th>\n",
       "      <th>...</th>\n",
       "      <th>bat_team_0</th>\n",
       "      <th>bat_team_1</th>\n",
       "      <th>bat_team_2</th>\n",
       "      <th>bat_team_3</th>\n",
       "      <th>bat_team_4</th>\n",
       "      <th>bowl_team_0</th>\n",
       "      <th>bowl_team_1</th>\n",
       "      <th>bowl_team_2</th>\n",
       "      <th>bowl_team_3</th>\n",
       "      <th>bowl_team_4</th>\n",
       "    </tr>\n",
       "  </thead>\n",
       "  <tbody>\n",
       "    <tr>\n",
       "      <th>0</th>\n",
       "      <td>M Chinnaswamy Stadium</td>\n",
       "      <td>Kolkata Knight Riders</td>\n",
       "      <td>Royal Challengers Bangalore</td>\n",
       "      <td>1</td>\n",
       "      <td>0</td>\n",
       "      <td>0.1</td>\n",
       "      <td>1</td>\n",
       "      <td>0</td>\n",
       "      <td>0</td>\n",
       "      <td>0</td>\n",
       "      <td>...</td>\n",
       "      <td>0</td>\n",
       "      <td>0</td>\n",
       "      <td>0</td>\n",
       "      <td>0</td>\n",
       "      <td>1</td>\n",
       "      <td>0</td>\n",
       "      <td>0</td>\n",
       "      <td>0</td>\n",
       "      <td>0</td>\n",
       "      <td>1</td>\n",
       "    </tr>\n",
       "    <tr>\n",
       "      <th>1</th>\n",
       "      <td>M Chinnaswamy Stadium</td>\n",
       "      <td>Kolkata Knight Riders</td>\n",
       "      <td>Royal Challengers Bangalore</td>\n",
       "      <td>1</td>\n",
       "      <td>0</td>\n",
       "      <td>0.2</td>\n",
       "      <td>1</td>\n",
       "      <td>0</td>\n",
       "      <td>0</td>\n",
       "      <td>0</td>\n",
       "      <td>...</td>\n",
       "      <td>0</td>\n",
       "      <td>0</td>\n",
       "      <td>0</td>\n",
       "      <td>0</td>\n",
       "      <td>1</td>\n",
       "      <td>0</td>\n",
       "      <td>0</td>\n",
       "      <td>0</td>\n",
       "      <td>0</td>\n",
       "      <td>1</td>\n",
       "    </tr>\n",
       "    <tr>\n",
       "      <th>2</th>\n",
       "      <td>M Chinnaswamy Stadium</td>\n",
       "      <td>Kolkata Knight Riders</td>\n",
       "      <td>Royal Challengers Bangalore</td>\n",
       "      <td>2</td>\n",
       "      <td>0</td>\n",
       "      <td>0.2</td>\n",
       "      <td>2</td>\n",
       "      <td>0</td>\n",
       "      <td>0</td>\n",
       "      <td>0</td>\n",
       "      <td>...</td>\n",
       "      <td>0</td>\n",
       "      <td>0</td>\n",
       "      <td>0</td>\n",
       "      <td>0</td>\n",
       "      <td>1</td>\n",
       "      <td>0</td>\n",
       "      <td>0</td>\n",
       "      <td>0</td>\n",
       "      <td>0</td>\n",
       "      <td>1</td>\n",
       "    </tr>\n",
       "    <tr>\n",
       "      <th>3</th>\n",
       "      <td>M Chinnaswamy Stadium</td>\n",
       "      <td>Kolkata Knight Riders</td>\n",
       "      <td>Royal Challengers Bangalore</td>\n",
       "      <td>2</td>\n",
       "      <td>0</td>\n",
       "      <td>0.3</td>\n",
       "      <td>2</td>\n",
       "      <td>0</td>\n",
       "      <td>0</td>\n",
       "      <td>0</td>\n",
       "      <td>...</td>\n",
       "      <td>0</td>\n",
       "      <td>0</td>\n",
       "      <td>0</td>\n",
       "      <td>0</td>\n",
       "      <td>1</td>\n",
       "      <td>0</td>\n",
       "      <td>0</td>\n",
       "      <td>0</td>\n",
       "      <td>0</td>\n",
       "      <td>1</td>\n",
       "    </tr>\n",
       "    <tr>\n",
       "      <th>4</th>\n",
       "      <td>M Chinnaswamy Stadium</td>\n",
       "      <td>Kolkata Knight Riders</td>\n",
       "      <td>Royal Challengers Bangalore</td>\n",
       "      <td>2</td>\n",
       "      <td>0</td>\n",
       "      <td>0.4</td>\n",
       "      <td>2</td>\n",
       "      <td>0</td>\n",
       "      <td>0</td>\n",
       "      <td>0</td>\n",
       "      <td>...</td>\n",
       "      <td>0</td>\n",
       "      <td>0</td>\n",
       "      <td>0</td>\n",
       "      <td>0</td>\n",
       "      <td>1</td>\n",
       "      <td>0</td>\n",
       "      <td>0</td>\n",
       "      <td>0</td>\n",
       "      <td>0</td>\n",
       "      <td>1</td>\n",
       "    </tr>\n",
       "    <tr>\n",
       "      <th>...</th>\n",
       "      <td>...</td>\n",
       "      <td>...</td>\n",
       "      <td>...</td>\n",
       "      <td>...</td>\n",
       "      <td>...</td>\n",
       "      <td>...</td>\n",
       "      <td>...</td>\n",
       "      <td>...</td>\n",
       "      <td>...</td>\n",
       "      <td>...</td>\n",
       "      <td>...</td>\n",
       "      <td>...</td>\n",
       "      <td>...</td>\n",
       "      <td>...</td>\n",
       "      <td>...</td>\n",
       "      <td>...</td>\n",
       "      <td>...</td>\n",
       "      <td>...</td>\n",
       "      <td>...</td>\n",
       "      <td>...</td>\n",
       "      <td>...</td>\n",
       "    </tr>\n",
       "    <tr>\n",
       "      <th>76009</th>\n",
       "      <td>Rajiv Gandhi International Stadium, Uppal</td>\n",
       "      <td>Mumbai Indians</td>\n",
       "      <td>Rising Pune Supergiant</td>\n",
       "      <td>121</td>\n",
       "      <td>7</td>\n",
       "      <td>19.2</td>\n",
       "      <td>40</td>\n",
       "      <td>0</td>\n",
       "      <td>40</td>\n",
       "      <td>12</td>\n",
       "      <td>...</td>\n",
       "      <td>0</td>\n",
       "      <td>0</td>\n",
       "      <td>1</td>\n",
       "      <td>0</td>\n",
       "      <td>0</td>\n",
       "      <td>0</td>\n",
       "      <td>1</td>\n",
       "      <td>1</td>\n",
       "      <td>1</td>\n",
       "      <td>0</td>\n",
       "    </tr>\n",
       "    <tr>\n",
       "      <th>76010</th>\n",
       "      <td>Rajiv Gandhi International Stadium, Uppal</td>\n",
       "      <td>Mumbai Indians</td>\n",
       "      <td>Rising Pune Supergiant</td>\n",
       "      <td>127</td>\n",
       "      <td>7</td>\n",
       "      <td>19.3</td>\n",
       "      <td>46</td>\n",
       "      <td>0</td>\n",
       "      <td>46</td>\n",
       "      <td>12</td>\n",
       "      <td>...</td>\n",
       "      <td>0</td>\n",
       "      <td>0</td>\n",
       "      <td>1</td>\n",
       "      <td>0</td>\n",
       "      <td>0</td>\n",
       "      <td>0</td>\n",
       "      <td>1</td>\n",
       "      <td>1</td>\n",
       "      <td>1</td>\n",
       "      <td>0</td>\n",
       "    </tr>\n",
       "    <tr>\n",
       "      <th>76011</th>\n",
       "      <td>Rajiv Gandhi International Stadium, Uppal</td>\n",
       "      <td>Mumbai Indians</td>\n",
       "      <td>Rising Pune Supergiant</td>\n",
       "      <td>128</td>\n",
       "      <td>7</td>\n",
       "      <td>19.4</td>\n",
       "      <td>47</td>\n",
       "      <td>0</td>\n",
       "      <td>47</td>\n",
       "      <td>12</td>\n",
       "      <td>...</td>\n",
       "      <td>0</td>\n",
       "      <td>0</td>\n",
       "      <td>1</td>\n",
       "      <td>0</td>\n",
       "      <td>0</td>\n",
       "      <td>0</td>\n",
       "      <td>1</td>\n",
       "      <td>1</td>\n",
       "      <td>1</td>\n",
       "      <td>0</td>\n",
       "    </tr>\n",
       "    <tr>\n",
       "      <th>76012</th>\n",
       "      <td>Rajiv Gandhi International Stadium, Uppal</td>\n",
       "      <td>Mumbai Indians</td>\n",
       "      <td>Rising Pune Supergiant</td>\n",
       "      <td>129</td>\n",
       "      <td>7</td>\n",
       "      <td>19.5</td>\n",
       "      <td>48</td>\n",
       "      <td>0</td>\n",
       "      <td>47</td>\n",
       "      <td>13</td>\n",
       "      <td>...</td>\n",
       "      <td>0</td>\n",
       "      <td>0</td>\n",
       "      <td>1</td>\n",
       "      <td>0</td>\n",
       "      <td>0</td>\n",
       "      <td>0</td>\n",
       "      <td>1</td>\n",
       "      <td>1</td>\n",
       "      <td>1</td>\n",
       "      <td>0</td>\n",
       "    </tr>\n",
       "    <tr>\n",
       "      <th>76013</th>\n",
       "      <td>Rajiv Gandhi International Stadium, Uppal</td>\n",
       "      <td>Mumbai Indians</td>\n",
       "      <td>Rising Pune Supergiant</td>\n",
       "      <td>129</td>\n",
       "      <td>8</td>\n",
       "      <td>19.6</td>\n",
       "      <td>47</td>\n",
       "      <td>1</td>\n",
       "      <td>47</td>\n",
       "      <td>13</td>\n",
       "      <td>...</td>\n",
       "      <td>0</td>\n",
       "      <td>0</td>\n",
       "      <td>1</td>\n",
       "      <td>0</td>\n",
       "      <td>0</td>\n",
       "      <td>0</td>\n",
       "      <td>1</td>\n",
       "      <td>1</td>\n",
       "      <td>1</td>\n",
       "      <td>0</td>\n",
       "    </tr>\n",
       "  </tbody>\n",
       "</table>\n",
       "<p>75977 rows × 29 columns</p>\n",
       "</div>"
      ],
      "text/plain": [
       "                                           venue               bat_team  \\\n",
       "0                          M Chinnaswamy Stadium  Kolkata Knight Riders   \n",
       "1                          M Chinnaswamy Stadium  Kolkata Knight Riders   \n",
       "2                          M Chinnaswamy Stadium  Kolkata Knight Riders   \n",
       "3                          M Chinnaswamy Stadium  Kolkata Knight Riders   \n",
       "4                          M Chinnaswamy Stadium  Kolkata Knight Riders   \n",
       "...                                          ...                    ...   \n",
       "76009  Rajiv Gandhi International Stadium, Uppal         Mumbai Indians   \n",
       "76010  Rajiv Gandhi International Stadium, Uppal         Mumbai Indians   \n",
       "76011  Rajiv Gandhi International Stadium, Uppal         Mumbai Indians   \n",
       "76012  Rajiv Gandhi International Stadium, Uppal         Mumbai Indians   \n",
       "76013  Rajiv Gandhi International Stadium, Uppal         Mumbai Indians   \n",
       "\n",
       "                         bowl_team  runs  wickets  overs  runs_last_5  \\\n",
       "0      Royal Challengers Bangalore     1        0    0.1            1   \n",
       "1      Royal Challengers Bangalore     1        0    0.2            1   \n",
       "2      Royal Challengers Bangalore     2        0    0.2            2   \n",
       "3      Royal Challengers Bangalore     2        0    0.3            2   \n",
       "4      Royal Challengers Bangalore     2        0    0.4            2   \n",
       "...                            ...   ...      ...    ...          ...   \n",
       "76009       Rising Pune Supergiant   121        7   19.2           40   \n",
       "76010       Rising Pune Supergiant   127        7   19.3           46   \n",
       "76011       Rising Pune Supergiant   128        7   19.4           47   \n",
       "76012       Rising Pune Supergiant   129        7   19.5           48   \n",
       "76013       Rising Pune Supergiant   129        8   19.6           47   \n",
       "\n",
       "       wickets_last_5  striker  non-striker  ...  bat_team_0  bat_team_1  \\\n",
       "0                   0        0            0  ...           0           0   \n",
       "1                   0        0            0  ...           0           0   \n",
       "2                   0        0            0  ...           0           0   \n",
       "3                   0        0            0  ...           0           0   \n",
       "4                   0        0            0  ...           0           0   \n",
       "...               ...      ...          ...  ...         ...         ...   \n",
       "76009               0       40           12  ...           0           0   \n",
       "76010               0       46           12  ...           0           0   \n",
       "76011               0       47           12  ...           0           0   \n",
       "76012               0       47           13  ...           0           0   \n",
       "76013               1       47           13  ...           0           0   \n",
       "\n",
       "       bat_team_2  bat_team_3  bat_team_4  bowl_team_0  bowl_team_1  \\\n",
       "0               0           0           1            0            0   \n",
       "1               0           0           1            0            0   \n",
       "2               0           0           1            0            0   \n",
       "3               0           0           1            0            0   \n",
       "4               0           0           1            0            0   \n",
       "...           ...         ...         ...          ...          ...   \n",
       "76009           1           0           0            0            1   \n",
       "76010           1           0           0            0            1   \n",
       "76011           1           0           0            0            1   \n",
       "76012           1           0           0            0            1   \n",
       "76013           1           0           0            0            1   \n",
       "\n",
       "       bowl_team_2  bowl_team_3  bowl_team_4  \n",
       "0                0            0            1  \n",
       "1                0            0            1  \n",
       "2                0            0            1  \n",
       "3                0            0            1  \n",
       "4                0            0            1  \n",
       "...            ...          ...          ...  \n",
       "76009            1            1            0  \n",
       "76010            1            1            0  \n",
       "76011            1            1            0  \n",
       "76012            1            1            0  \n",
       "76013            1            1            0  \n",
       "\n",
       "[75977 rows x 29 columns]"
      ]
     },
     "execution_count": 24,
     "metadata": {},
     "output_type": "execute_result"
    }
   ],
   "source": [
    "# Now Lets encode for bowling teams as well\n",
    "import category_encoders as ce\n",
    "encoder = ce.BinaryEncoder(['bowl_team'])\n",
    "databin = encoder.fit_transform(data['bowl_team'])\n",
    "data = pd.concat([data, databin], axis=1)\n",
    "data"
   ]
  },
  {
   "cell_type": "code",
   "execution_count": 25,
   "metadata": {
    "colab": {
     "base_uri": "https://localhost:8080/"
    },
    "id": "hvZGdhpQUdaQ",
    "outputId": "c7e41305-eabd-4476-f578-3f0f6d0bc5c2"
   },
   "outputs": [
    {
     "name": "stdout",
     "output_type": "stream",
     "text": [
      "<class 'pandas.core.frame.DataFrame'>\n",
      "Int64Index: 75977 entries, 0 to 76013\n",
      "Data columns (total 29 columns):\n",
      " #   Column          Non-Null Count  Dtype  \n",
      "---  ------          --------------  -----  \n",
      " 0   venue           75977 non-null  object \n",
      " 1   bat_team        75977 non-null  object \n",
      " 2   bowl_team       75977 non-null  object \n",
      " 3   runs            75977 non-null  int64  \n",
      " 4   wickets         75977 non-null  int64  \n",
      " 5   overs           75977 non-null  float64\n",
      " 6   runs_last_5     75977 non-null  int64  \n",
      " 7   wickets_last_5  75977 non-null  int64  \n",
      " 8   striker         75977 non-null  int64  \n",
      " 9   non-striker     75977 non-null  int64  \n",
      " 10  total           75977 non-null  int64  \n",
      " 11  run_rate        75977 non-null  float64\n",
      " 12  venue_0         75977 non-null  int64  \n",
      " 13  venue_1         75977 non-null  int64  \n",
      " 14  venue_2         75977 non-null  int64  \n",
      " 15  venue_3         75977 non-null  int64  \n",
      " 16  venue_4         75977 non-null  int64  \n",
      " 17  venue_5         75977 non-null  int64  \n",
      " 18  venue_6         75977 non-null  int64  \n",
      " 19  bat_team_0      75977 non-null  int64  \n",
      " 20  bat_team_1      75977 non-null  int64  \n",
      " 21  bat_team_2      75977 non-null  int64  \n",
      " 22  bat_team_3      75977 non-null  int64  \n",
      " 23  bat_team_4      75977 non-null  int64  \n",
      " 24  bowl_team_0     75977 non-null  int64  \n",
      " 25  bowl_team_1     75977 non-null  int64  \n",
      " 26  bowl_team_2     75977 non-null  int64  \n",
      " 27  bowl_team_3     75977 non-null  int64  \n",
      " 28  bowl_team_4     75977 non-null  int64  \n",
      "dtypes: float64(2), int64(24), object(3)\n",
      "memory usage: 17.4+ MB\n"
     ]
    }
   ],
   "source": [
    "data.info()"
   ]
  },
  {
   "cell_type": "code",
   "execution_count": 26,
   "metadata": {
    "colab": {
     "base_uri": "https://localhost:8080/"
    },
    "id": "JvKVrzzQmrk1",
    "outputId": "7369e5e8-f5b3-4a43-af00-fe0cc908e818"
   },
   "outputs": [
    {
     "data": {
      "text/html": [
       "<div>\n",
       "<style scoped>\n",
       "    .dataframe tbody tr th:only-of-type {\n",
       "        vertical-align: middle;\n",
       "    }\n",
       "\n",
       "    .dataframe tbody tr th {\n",
       "        vertical-align: top;\n",
       "    }\n",
       "\n",
       "    .dataframe thead th {\n",
       "        text-align: right;\n",
       "    }\n",
       "</style>\n",
       "<table border=\"1\" class=\"dataframe\">\n",
       "  <thead>\n",
       "    <tr style=\"text-align: right;\">\n",
       "      <th></th>\n",
       "      <th>venue</th>\n",
       "      <th>bat_team</th>\n",
       "      <th>bowl_team</th>\n",
       "      <th>runs</th>\n",
       "      <th>wickets</th>\n",
       "      <th>overs</th>\n",
       "      <th>runs_last_5</th>\n",
       "      <th>wickets_last_5</th>\n",
       "      <th>striker</th>\n",
       "      <th>non-striker</th>\n",
       "      <th>...</th>\n",
       "      <th>bat_team_0</th>\n",
       "      <th>bat_team_1</th>\n",
       "      <th>bat_team_2</th>\n",
       "      <th>bat_team_3</th>\n",
       "      <th>bat_team_4</th>\n",
       "      <th>bowl_team_0</th>\n",
       "      <th>bowl_team_1</th>\n",
       "      <th>bowl_team_2</th>\n",
       "      <th>bowl_team_3</th>\n",
       "      <th>bowl_team_4</th>\n",
       "    </tr>\n",
       "  </thead>\n",
       "  <tbody>\n",
       "    <tr>\n",
       "      <th>0</th>\n",
       "      <td>M Chinnaswamy Stadium</td>\n",
       "      <td>Kolkata Knight Riders</td>\n",
       "      <td>Royal Challengers Bangalore</td>\n",
       "      <td>1</td>\n",
       "      <td>0</td>\n",
       "      <td>0.1</td>\n",
       "      <td>1</td>\n",
       "      <td>0</td>\n",
       "      <td>0</td>\n",
       "      <td>0</td>\n",
       "      <td>...</td>\n",
       "      <td>0</td>\n",
       "      <td>0</td>\n",
       "      <td>0</td>\n",
       "      <td>0</td>\n",
       "      <td>1</td>\n",
       "      <td>0</td>\n",
       "      <td>0</td>\n",
       "      <td>0</td>\n",
       "      <td>0</td>\n",
       "      <td>1</td>\n",
       "    </tr>\n",
       "    <tr>\n",
       "      <th>1</th>\n",
       "      <td>M Chinnaswamy Stadium</td>\n",
       "      <td>Kolkata Knight Riders</td>\n",
       "      <td>Royal Challengers Bangalore</td>\n",
       "      <td>1</td>\n",
       "      <td>0</td>\n",
       "      <td>0.2</td>\n",
       "      <td>1</td>\n",
       "      <td>0</td>\n",
       "      <td>0</td>\n",
       "      <td>0</td>\n",
       "      <td>...</td>\n",
       "      <td>0</td>\n",
       "      <td>0</td>\n",
       "      <td>0</td>\n",
       "      <td>0</td>\n",
       "      <td>1</td>\n",
       "      <td>0</td>\n",
       "      <td>0</td>\n",
       "      <td>0</td>\n",
       "      <td>0</td>\n",
       "      <td>1</td>\n",
       "    </tr>\n",
       "  </tbody>\n",
       "</table>\n",
       "<p>2 rows × 29 columns</p>\n",
       "</div>"
      ],
      "text/plain": [
       "                   venue               bat_team                    bowl_team  \\\n",
       "0  M Chinnaswamy Stadium  Kolkata Knight Riders  Royal Challengers Bangalore   \n",
       "1  M Chinnaswamy Stadium  Kolkata Knight Riders  Royal Challengers Bangalore   \n",
       "\n",
       "   runs  wickets  overs  runs_last_5  wickets_last_5  striker  non-striker  \\\n",
       "0     1        0    0.1            1               0        0            0   \n",
       "1     1        0    0.2            1               0        0            0   \n",
       "\n",
       "   ...  bat_team_0  bat_team_1  bat_team_2  bat_team_3  bat_team_4  \\\n",
       "0  ...           0           0           0           0           1   \n",
       "1  ...           0           0           0           0           1   \n",
       "\n",
       "   bowl_team_0  bowl_team_1  bowl_team_2  bowl_team_3  bowl_team_4  \n",
       "0            0            0            0            0            1  \n",
       "1            0            0            0            0            1  \n",
       "\n",
       "[2 rows x 29 columns]"
      ]
     },
     "execution_count": 26,
     "metadata": {},
     "output_type": "execute_result"
    }
   ],
   "source": [
    "data.head(2)"
   ]
  },
  {
   "cell_type": "code",
   "execution_count": 27,
   "metadata": {},
   "outputs": [],
   "source": [
    "# SO after Encoding all venues, batsman, bowlers we get 48 columns which is fine."
   ]
  },
  {
   "cell_type": "code",
   "execution_count": 28,
   "metadata": {
    "colab": {
     "base_uri": "https://localhost:8080/"
    },
    "id": "I2h5ZRHXnOJg",
    "outputId": "3fcc511b-1d0a-429c-feb9-1fd2fbd6025c"
   },
   "outputs": [
    {
     "data": {
      "text/plain": [
       "M Chinnaswamy Stadium                                   7441\n",
       "Feroz Shah Kotla                                        7067\n",
       "Eden Gardens                                            7046\n",
       "Wankhede Stadium                                        7046\n",
       "MA Chidambaram Stadium, Chepauk                         5965\n",
       "Rajiv Gandhi International Stadium, Uppal               5826\n",
       "Punjab Cricket Association Stadium, Mohali              4245\n",
       "Sawai Mansingh Stadium                                  4109\n",
       "Dr DY Patil Sports Academy                              2087\n",
       "Subrata Roy Sahara Stadium                              2085\n",
       "Maharashtra Cricket Association Stadium                 1841\n",
       "Kingsmead                                               1731\n",
       "Sardar Patel Stadium, Motera                            1484\n",
       "Brabourne Stadium                                       1377\n",
       "SuperSport Park                                         1375\n",
       "Punjab Cricket Association IS Bindra Stadium, Mohali    1342\n",
       "Saurashtra Cricket Association Stadium                  1228\n",
       "Dr. Y.S. Rajasekhara Reddy ACA-VDCA Cricket Stadium     1113\n",
       "Himachal Pradesh Cricket Association Stadium            1113\n",
       "New Wanderers Stadium                                    994\n",
       "St George's Park                                         869\n",
       "Dubai International Cricket Stadium                      867\n",
       "Barabati Stadium                                         856\n",
       "JSCA International Stadium Complex                       837\n",
       "Sheikh Zayed Stadium                                     835\n",
       "Sharjah Cricket Stadium                                  744\n",
       "Shaheed Veer Narayan Singh International Stadium         742\n",
       "Newlands                                                 737\n",
       "Holkar Cricket Stadium                                   617\n",
       "Nehru Stadium                                            498\n",
       "Green Park                                               492\n",
       "Buffalo Park                                             379\n",
       "Vidarbha Cricket Association Stadium, Jamtha             370\n",
       "De Beers Diamond Oval                                    368\n",
       "OUTsurance Oval                                          251\n",
       "Name: venue, dtype: int64"
      ]
     },
     "execution_count": 28,
     "metadata": {},
     "output_type": "execute_result"
    }
   ],
   "source": [
    "data['venue'].value_counts()"
   ]
  },
  {
   "cell_type": "markdown",
   "metadata": {
    "id": "98Jw6WJFTpRR"
   },
   "source": [
    "Finally after encoding, we ended up with 27 columns out of which 3 are redundant originals and 1 is target column. So there are 24 feature columns."
   ]
  },
  {
   "cell_type": "code",
   "execution_count": 29,
   "metadata": {},
   "outputs": [],
   "source": [
    "# Lets drop venue, bat_team, bowl_team as it is alreay encoded."
   ]
  },
  {
   "cell_type": "code",
   "execution_count": 30,
   "metadata": {
    "id": "Vhr4tYVIY-zD"
   },
   "outputs": [],
   "source": [
    "df = data.drop(['venue','bat_team', 'bowl_team'], axis=1)"
   ]
  },
  {
   "cell_type": "markdown",
   "metadata": {
    "id": "9uvRoMOlp0-D"
   },
   "source": [
    "I'll later visualize the encoded pattern to be used for HTML input."
   ]
  },
  {
   "cell_type": "markdown",
   "metadata": {
    "id": "35-oroKE3coW"
   },
   "source": [
    "## EDA\n"
   ]
  },
  {
   "cell_type": "markdown",
   "metadata": {
    "id": "FizcK9ql4PPo"
   },
   "source": [
    "Let's check distribution of each feature column"
   ]
  },
  {
   "cell_type": "code",
   "execution_count": 31,
   "metadata": {
    "colab": {
     "base_uri": "https://localhost:8080/"
    },
    "id": "AyR6-KBi3g7f",
    "outputId": "6ade3640-3824-4f1c-8cdd-7d898f635259"
   },
   "outputs": [
    {
     "data": {
      "image/png": "[encoded data removed]",
      "text/plain": [
       "<Figure size 1440x1080 with 30 Axes>"
      ]
     },
     "metadata": {
      "needs_background": "light"
     },
     "output_type": "display_data"
    }
   ],
   "source": [
    "%matplotlib inline\n",
    "import matplotlib.pyplot as plt\n",
    "df.hist(bins=50, figsize=(20,15))\n",
    "plt.show()"
   ]
  },
  {
   "cell_type": "markdown",
   "metadata": {
    "id": "3gZ38yiC4sDo"
   },
   "source": [
    "some of the features have constant values throughout. We should not include them. Let's drop them"
   ]
  },
  {
   "cell_type": "code",
   "execution_count": 32,
   "metadata": {
    "id": "XAsKJHge5AC5"
   },
   "outputs": [],
   "source": [
    "df = df.drop(['venue_0', 'bat_team_0', 'bowl_team_0'], axis=1)"
   ]
  },
  {
   "cell_type": "code",
   "execution_count": 33,
   "metadata": {
    "colab": {
     "base_uri": "https://localhost:8080/"
    },
    "id": "z2a0hDUE5932",
    "outputId": "8a731acc-1514-423f-976d-be3212d2a854"
   },
   "outputs": [
    {
     "data": {
      "text/html": [
       "<div>\n",
       "<style scoped>\n",
       "    .dataframe tbody tr th:only-of-type {\n",
       "        vertical-align: middle;\n",
       "    }\n",
       "\n",
       "    .dataframe tbody tr th {\n",
       "        vertical-align: top;\n",
       "    }\n",
       "\n",
       "    .dataframe thead th {\n",
       "        text-align: right;\n",
       "    }\n",
       "</style>\n",
       "<table border=\"1\" class=\"dataframe\">\n",
       "  <thead>\n",
       "    <tr style=\"text-align: right;\">\n",
       "      <th></th>\n",
       "      <th>runs</th>\n",
       "      <th>wickets</th>\n",
       "      <th>overs</th>\n",
       "      <th>runs_last_5</th>\n",
       "      <th>wickets_last_5</th>\n",
       "      <th>striker</th>\n",
       "      <th>non-striker</th>\n",
       "      <th>total</th>\n",
       "      <th>run_rate</th>\n",
       "      <th>venue_1</th>\n",
       "      <th>...</th>\n",
       "      <th>venue_5</th>\n",
       "      <th>venue_6</th>\n",
       "      <th>bat_team_1</th>\n",
       "      <th>bat_team_2</th>\n",
       "      <th>bat_team_3</th>\n",
       "      <th>bat_team_4</th>\n",
       "      <th>bowl_team_1</th>\n",
       "      <th>bowl_team_2</th>\n",
       "      <th>bowl_team_3</th>\n",
       "      <th>bowl_team_4</th>\n",
       "    </tr>\n",
       "  </thead>\n",
       "  <tbody>\n",
       "    <tr>\n",
       "      <th>0</th>\n",
       "      <td>1</td>\n",
       "      <td>0</td>\n",
       "      <td>0.1</td>\n",
       "      <td>1</td>\n",
       "      <td>0</td>\n",
       "      <td>0</td>\n",
       "      <td>0</td>\n",
       "      <td>222</td>\n",
       "      <td>6.0</td>\n",
       "      <td>0</td>\n",
       "      <td>...</td>\n",
       "      <td>0</td>\n",
       "      <td>1</td>\n",
       "      <td>0</td>\n",
       "      <td>0</td>\n",
       "      <td>0</td>\n",
       "      <td>1</td>\n",
       "      <td>0</td>\n",
       "      <td>0</td>\n",
       "      <td>0</td>\n",
       "      <td>1</td>\n",
       "    </tr>\n",
       "    <tr>\n",
       "      <th>1</th>\n",
       "      <td>1</td>\n",
       "      <td>0</td>\n",
       "      <td>0.2</td>\n",
       "      <td>1</td>\n",
       "      <td>0</td>\n",
       "      <td>0</td>\n",
       "      <td>0</td>\n",
       "      <td>222</td>\n",
       "      <td>3.0</td>\n",
       "      <td>0</td>\n",
       "      <td>...</td>\n",
       "      <td>0</td>\n",
       "      <td>1</td>\n",
       "      <td>0</td>\n",
       "      <td>0</td>\n",
       "      <td>0</td>\n",
       "      <td>1</td>\n",
       "      <td>0</td>\n",
       "      <td>0</td>\n",
       "      <td>0</td>\n",
       "      <td>1</td>\n",
       "    </tr>\n",
       "    <tr>\n",
       "      <th>2</th>\n",
       "      <td>2</td>\n",
       "      <td>0</td>\n",
       "      <td>0.2</td>\n",
       "      <td>2</td>\n",
       "      <td>0</td>\n",
       "      <td>0</td>\n",
       "      <td>0</td>\n",
       "      <td>222</td>\n",
       "      <td>6.0</td>\n",
       "      <td>0</td>\n",
       "      <td>...</td>\n",
       "      <td>0</td>\n",
       "      <td>1</td>\n",
       "      <td>0</td>\n",
       "      <td>0</td>\n",
       "      <td>0</td>\n",
       "      <td>1</td>\n",
       "      <td>0</td>\n",
       "      <td>0</td>\n",
       "      <td>0</td>\n",
       "      <td>1</td>\n",
       "    </tr>\n",
       "    <tr>\n",
       "      <th>3</th>\n",
       "      <td>2</td>\n",
       "      <td>0</td>\n",
       "      <td>0.3</td>\n",
       "      <td>2</td>\n",
       "      <td>0</td>\n",
       "      <td>0</td>\n",
       "      <td>0</td>\n",
       "      <td>222</td>\n",
       "      <td>4.0</td>\n",
       "      <td>0</td>\n",
       "      <td>...</td>\n",
       "      <td>0</td>\n",
       "      <td>1</td>\n",
       "      <td>0</td>\n",
       "      <td>0</td>\n",
       "      <td>0</td>\n",
       "      <td>1</td>\n",
       "      <td>0</td>\n",
       "      <td>0</td>\n",
       "      <td>0</td>\n",
       "      <td>1</td>\n",
       "    </tr>\n",
       "  </tbody>\n",
       "</table>\n",
       "<p>4 rows × 23 columns</p>\n",
       "</div>"
      ],
      "text/plain": [
       "   runs  wickets  overs  runs_last_5  wickets_last_5  striker  non-striker  \\\n",
       "0     1        0    0.1            1               0        0            0   \n",
       "1     1        0    0.2            1               0        0            0   \n",
       "2     2        0    0.2            2               0        0            0   \n",
       "3     2        0    0.3            2               0        0            0   \n",
       "\n",
       "   total  run_rate  venue_1  ...  venue_5  venue_6  bat_team_1  bat_team_2  \\\n",
       "0    222       6.0        0  ...        0        1           0           0   \n",
       "1    222       3.0        0  ...        0        1           0           0   \n",
       "2    222       6.0        0  ...        0        1           0           0   \n",
       "3    222       4.0        0  ...        0        1           0           0   \n",
       "\n",
       "   bat_team_3  bat_team_4  bowl_team_1  bowl_team_2  bowl_team_3  bowl_team_4  \n",
       "0           0           1            0            0            0            1  \n",
       "1           0           1            0            0            0            1  \n",
       "2           0           1            0            0            0            1  \n",
       "3           0           1            0            0            0            1  \n",
       "\n",
       "[4 rows x 23 columns]"
      ]
     },
     "execution_count": 33,
     "metadata": {},
     "output_type": "execute_result"
    }
   ],
   "source": [
    "df.head(4)"
   ]
  },
  {
   "cell_type": "markdown",
   "metadata": {
    "id": "udJ9uujO8B0G"
   },
   "source": [
    "### Correlation of features with Total Score\n",
    "As total score is our final goal Let check correlation with total score with other features."
   ]
  },
  {
   "cell_type": "code",
   "execution_count": 34,
   "metadata": {
    "colab": {
     "base_uri": "https://localhost:8080/"
    },
    "id": "7o0pe5WI8BU_",
    "outputId": "e72463b0-c9cb-4639-8cf3-e84f2c87a26d"
   },
   "outputs": [
    {
     "data": {
      "text/plain": [
       "wickets          -0.337416\n",
       "wickets_last_5   -0.273506\n",
       "venue_3          -0.130892\n",
       "venue_4          -0.099074\n",
       "bat_team_1       -0.060211\n",
       "bowl_team_2      -0.059253\n",
       "venue_6          -0.045118\n",
       "venue_2          -0.041050\n",
       "venue_5          -0.026509\n",
       "bat_team_4       -0.015796\n",
       "bowl_team_1      -0.011330\n",
       "bowl_team_4       0.018386\n",
       "overs             0.022440\n",
       "bowl_team_3       0.032148\n",
       "venue_1           0.052469\n",
       "bat_team_3        0.056845\n",
       "bat_team_2        0.066630\n",
       "runs              0.254801\n",
       "non-striker       0.293394\n",
       "runs_last_5       0.368893\n",
       "striker           0.381967\n",
       "run_rate          0.464813\n",
       "total             1.000000\n",
       "Name: total, dtype: float64"
      ]
     },
     "execution_count": 34,
     "metadata": {},
     "output_type": "execute_result"
    }
   ],
   "source": [
    "df.corr()['total'].sort_values()"
   ]
  },
  {
   "cell_type": "code",
   "execution_count": 35,
   "metadata": {
    "colab": {
     "base_uri": "https://localhost:8080/"
    },
    "id": "dTKUq2Ou9Bnt",
    "outputId": "9243c3a0-de90-4a2a-fbdb-3c5a843f45fb"
   },
   "outputs": [
    {
     "data": {
      "text/plain": [
       "<matplotlib.axes._subplots.AxesSubplot at 0x25d8ce6c5e0>"
      ]
     },
     "execution_count": 35,
     "metadata": {},
     "output_type": "execute_result"
    },
    {
     "data": {
      "image/png": "[encoded data removed]",
      "text/plain": [
       "<Figure size 720x576 with 2 Axes>"
      ]
     },
     "metadata": {
      "needs_background": "light"
     },
     "output_type": "display_data"
    }
   ],
   "source": [
    "f, ax = plt.subplots(figsize=(10, 8))\n",
    "corr = df.corr()\n",
    "sns.heatmap(corr, mask=np.zeros_like(corr, dtype=np.bool), cmap=sns.diverging_palette(240,10,as_cmap=True),\n",
    "            square=True, ax=ax)"
   ]
  },
  {
   "cell_type": "markdown",
   "metadata": {
    "id": "8tAH2PDGPe6I"
   },
   "source": [
    "Let's zoom in the data with a new dataframe to closely capture correlation"
   ]
  },
  {
   "cell_type": "code",
   "execution_count": 36,
   "metadata": {
    "id": "b8Tu3yZCGX_a"
   },
   "outputs": [],
   "source": [
    "df_cor = df.drop(['venue_1', 'venue_2', 'venue_3', 'venue_4', 'venue_5', 'venue_6', 'bat_team_1', 'bat_team_2', 'bat_team_3', 'bat_team_4', 'bowl_team_1', 'bowl_team_2', 'bowl_team_3', 'bowl_team_4'], axis=1)"
   ]
  },
  {
   "cell_type": "code",
   "execution_count": 37,
   "metadata": {
    "colab": {
     "base_uri": "https://localhost:8080/"
    },
    "id": "NX8d_wKjG_Ny",
    "outputId": "442d7ea8-d066-46fb-b0d6-452a02e4ba07"
   },
   "outputs": [
    {
     "data": {
      "text/plain": [
       "<matplotlib.axes._subplots.AxesSubplot at 0x25d8b45ac10>"
      ]
     },
     "execution_count": 37,
     "metadata": {},
     "output_type": "execute_result"
    },
    {
     "data": {
      "image/png": "[encoded data removed]",
      "text/plain": [
       "<Figure size 720x576 with 2 Axes>"
      ]
     },
     "metadata": {
      "needs_background": "light"
     },
     "output_type": "display_data"
    }
   ],
   "source": [
    "f, ax = plt.subplots(figsize=(10, 8))\n",
    "corr = df_cor.corr()\n",
    "sns.heatmap(corr, mask=np.zeros_like(corr, dtype=np.bool), \n",
    "            cmap=sns.diverging_palette(240,10,as_cmap=True),\n",
    "            square=True, ax=ax)"
   ]
  },
  {
   "cell_type": "code",
   "execution_count": 38,
   "metadata": {
    "colab": {
     "base_uri": "https://localhost:8080/"
    },
    "id": "_Z57f2wAHU0y",
    "outputId": "1da572a8-76ad-4846-fd68-2f9c41594ffc"
   },
   "outputs": [
    {
     "data": {
      "text/plain": [
       "wickets          -0.337416\n",
       "wickets_last_5   -0.273506\n",
       "overs             0.022440\n",
       "runs              0.254801\n",
       "non-striker       0.293394\n",
       "runs_last_5       0.368893\n",
       "striker           0.381967\n",
       "run_rate          0.464813\n",
       "total             1.000000\n",
       "Name: total, dtype: float64"
      ]
     },
     "execution_count": 38,
     "metadata": {},
     "output_type": "execute_result"
    }
   ],
   "source": [
    "df_cor.corr()['total'].sort_values()"
   ]
  },
  {
   "cell_type": "markdown",
   "metadata": {
    "id": "yNBd8yZZ-mY0"
   },
   "source": [
    "see the relative distribution of total with different features"
   ]
  },
  {
   "cell_type": "code",
   "execution_count": 39,
   "metadata": {
    "colab": {
     "base_uri": "https://localhost:8080/"
    },
    "id": "hSgzeT1N-mAv",
    "outputId": "7c9416e6-0610-4f49-a053-f3b960324c83"
   },
   "outputs": [
    {
     "data": {
      "text/plain": [
       "<seaborn.axisgrid.JointGrid at 0x25d8a578d00>"
      ]
     },
     "execution_count": 39,
     "metadata": {},
     "output_type": "execute_result"
    },
    {
     "data": {
      "image/png": "[encoded data removed]",
      "text/plain": [
       "<Figure size 432x432 with 3 Axes>"
      ]
     },
     "metadata": {
      "needs_background": "light"
     },
     "output_type": "display_data"
    }
   ],
   "source": [
    "sns.jointplot(x=\"runs_last_5\", y = \"total\", data=df, kind='reg', color = 'red')"
   ]
  },
  {
   "cell_type": "markdown",
   "metadata": {
    "id": "pQGipd6t_t25"
   },
   "source": [
    "The positive trend shown in heatmap. \n",
    "that with increasing values of runs_last_5 we do get higher total scores. "
   ]
  },
  {
   "cell_type": "code",
   "execution_count": 40,
   "metadata": {
    "colab": {
     "base_uri": "https://localhost:8080/"
    },
    "id": "TdE74m1d_z07",
    "outputId": "39506b03-7483-4516-c147-80ad6aaa760f"
   },
   "outputs": [
    {
     "data": {
      "text/plain": [
       "<seaborn.axisgrid.JointGrid at 0x25d8c807e80>"
      ]
     },
     "execution_count": 40,
     "metadata": {},
     "output_type": "execute_result"
    },
    {
     "data": {
      "image/png": "[encoded data removed]",
      "text/plain": [
       "<Figure size 432x432 with 3 Axes>"
      ]
     },
     "metadata": {
      "needs_background": "light"
     },
     "output_type": "display_data"
    }
   ],
   "source": [
    "sns.jointplot(x=\"striker\", y = \"total\", data=df, kind = 'reg', color = 'green')"
   ]
  },
  {
   "cell_type": "markdown",
   "metadata": {
    "id": "k3FJXQ_5Q41a"
   },
   "source": [
    "This one show out a very interesting trend that we seem to also realize in real time matches: if high scoring (well set) batsman is at strike, you can expect the total to go high. "
   ]
  },
  {
   "cell_type": "code",
   "execution_count": 41,
   "metadata": {
    "colab": {
     "base_uri": "https://localhost:8080/"
    },
    "id": "HYe35sYLAK98",
    "outputId": "e8cfe47d-5fa5-4e33-89d2-6967930c0f27"
   },
   "outputs": [
    {
     "data": {
      "text/plain": [
       "<seaborn.axisgrid.JointGrid at 0x25d8c213c40>"
      ]
     },
     "execution_count": 41,
     "metadata": {},
     "output_type": "execute_result"
    },
    {
     "data": {
      "image/png": "[encoded data removed]",
      "text/plain": [
       "<Figure size 432x432 with 3 Axes>"
      ]
     },
     "metadata": {
      "needs_background": "light"
     },
     "output_type": "display_data"
    }
   ],
   "source": [
    "sns.jointplot(x=\"run_rate\", y = \"total\", data=df, kind = 'reg', color = 'purple')"
   ]
  },
  {
   "cell_type": "markdown",
   "metadata": {
    "id": "mwjXvpjQRzYn"
   },
   "source": [
    "There is very high very high slope indicates that show that \n",
    "there is very strong correlation between the strike rate and total."
   ]
  },
  {
   "cell_type": "code",
   "execution_count": 42,
   "metadata": {
    "id": "THflELKHSk6Q"
   },
   "outputs": [
    {
     "data": {
      "text/plain": [
       "<seaborn.axisgrid.JointGrid at 0x25d8a5f8160>"
      ]
     },
     "execution_count": 42,
     "metadata": {},
     "output_type": "execute_result"
    },
    {
     "data": {
      "image/png": "[encoded data removed]",
      "text/plain": [
       "<Figure size 432x432 with 3 Axes>"
      ]
     },
     "metadata": {
      "needs_background": "light"
     },
     "output_type": "display_data"
    }
   ],
   "source": [
    "sns.jointplot(x=\"run_rate\", y = \"total\", data=df, kind = 'kde', color = 'purple')"
   ]
  },
  {
   "cell_type": "markdown",
   "metadata": {
    "id": "NzWHHns_yO5j"
   },
   "source": [
    "### Data Splitting and Scaling"
   ]
  },
  {
   "cell_type": "code",
   "execution_count": 43,
   "metadata": {
    "colab": {
     "base_uri": "https://localhost:8080/",
     "height": 456
    },
    "id": "grbgJLlvyZRj",
    "outputId": "aa5d27ef-c0d3-4146-8d2e-eb1ae6ff631c"
   },
   "outputs": [
    {
     "data": {
      "text/html": [
       "<div>\n",
       "<style scoped>\n",
       "    .dataframe tbody tr th:only-of-type {\n",
       "        vertical-align: middle;\n",
       "    }\n",
       "\n",
       "    .dataframe tbody tr th {\n",
       "        vertical-align: top;\n",
       "    }\n",
       "\n",
       "    .dataframe thead th {\n",
       "        text-align: right;\n",
       "    }\n",
       "</style>\n",
       "<table border=\"1\" class=\"dataframe\">\n",
       "  <thead>\n",
       "    <tr style=\"text-align: right;\">\n",
       "      <th></th>\n",
       "      <th>runs</th>\n",
       "      <th>wickets</th>\n",
       "      <th>overs</th>\n",
       "      <th>runs_last_5</th>\n",
       "      <th>wickets_last_5</th>\n",
       "      <th>striker</th>\n",
       "      <th>non-striker</th>\n",
       "      <th>total</th>\n",
       "      <th>run_rate</th>\n",
       "      <th>venue_1</th>\n",
       "      <th>...</th>\n",
       "      <th>venue_5</th>\n",
       "      <th>venue_6</th>\n",
       "      <th>bat_team_1</th>\n",
       "      <th>bat_team_2</th>\n",
       "      <th>bat_team_3</th>\n",
       "      <th>bat_team_4</th>\n",
       "      <th>bowl_team_1</th>\n",
       "      <th>bowl_team_2</th>\n",
       "      <th>bowl_team_3</th>\n",
       "      <th>bowl_team_4</th>\n",
       "    </tr>\n",
       "  </thead>\n",
       "  <tbody>\n",
       "    <tr>\n",
       "      <th>0</th>\n",
       "      <td>1</td>\n",
       "      <td>0</td>\n",
       "      <td>0.1</td>\n",
       "      <td>1</td>\n",
       "      <td>0</td>\n",
       "      <td>0</td>\n",
       "      <td>0</td>\n",
       "      <td>222</td>\n",
       "      <td>6.0</td>\n",
       "      <td>0</td>\n",
       "      <td>...</td>\n",
       "      <td>0</td>\n",
       "      <td>1</td>\n",
       "      <td>0</td>\n",
       "      <td>0</td>\n",
       "      <td>0</td>\n",
       "      <td>1</td>\n",
       "      <td>0</td>\n",
       "      <td>0</td>\n",
       "      <td>0</td>\n",
       "      <td>1</td>\n",
       "    </tr>\n",
       "    <tr>\n",
       "      <th>1</th>\n",
       "      <td>1</td>\n",
       "      <td>0</td>\n",
       "      <td>0.2</td>\n",
       "      <td>1</td>\n",
       "      <td>0</td>\n",
       "      <td>0</td>\n",
       "      <td>0</td>\n",
       "      <td>222</td>\n",
       "      <td>3.0</td>\n",
       "      <td>0</td>\n",
       "      <td>...</td>\n",
       "      <td>0</td>\n",
       "      <td>1</td>\n",
       "      <td>0</td>\n",
       "      <td>0</td>\n",
       "      <td>0</td>\n",
       "      <td>1</td>\n",
       "      <td>0</td>\n",
       "      <td>0</td>\n",
       "      <td>0</td>\n",
       "      <td>1</td>\n",
       "    </tr>\n",
       "    <tr>\n",
       "      <th>2</th>\n",
       "      <td>2</td>\n",
       "      <td>0</td>\n",
       "      <td>0.2</td>\n",
       "      <td>2</td>\n",
       "      <td>0</td>\n",
       "      <td>0</td>\n",
       "      <td>0</td>\n",
       "      <td>222</td>\n",
       "      <td>6.0</td>\n",
       "      <td>0</td>\n",
       "      <td>...</td>\n",
       "      <td>0</td>\n",
       "      <td>1</td>\n",
       "      <td>0</td>\n",
       "      <td>0</td>\n",
       "      <td>0</td>\n",
       "      <td>1</td>\n",
       "      <td>0</td>\n",
       "      <td>0</td>\n",
       "      <td>0</td>\n",
       "      <td>1</td>\n",
       "    </tr>\n",
       "    <tr>\n",
       "      <th>3</th>\n",
       "      <td>2</td>\n",
       "      <td>0</td>\n",
       "      <td>0.3</td>\n",
       "      <td>2</td>\n",
       "      <td>0</td>\n",
       "      <td>0</td>\n",
       "      <td>0</td>\n",
       "      <td>222</td>\n",
       "      <td>4.0</td>\n",
       "      <td>0</td>\n",
       "      <td>...</td>\n",
       "      <td>0</td>\n",
       "      <td>1</td>\n",
       "      <td>0</td>\n",
       "      <td>0</td>\n",
       "      <td>0</td>\n",
       "      <td>1</td>\n",
       "      <td>0</td>\n",
       "      <td>0</td>\n",
       "      <td>0</td>\n",
       "      <td>1</td>\n",
       "    </tr>\n",
       "  </tbody>\n",
       "</table>\n",
       "<p>4 rows × 23 columns</p>\n",
       "</div>"
      ],
      "text/plain": [
       "   runs  wickets  overs  runs_last_5  wickets_last_5  striker  non-striker  \\\n",
       "0     1        0    0.1            1               0        0            0   \n",
       "1     1        0    0.2            1               0        0            0   \n",
       "2     2        0    0.2            2               0        0            0   \n",
       "3     2        0    0.3            2               0        0            0   \n",
       "\n",
       "   total  run_rate  venue_1  ...  venue_5  venue_6  bat_team_1  bat_team_2  \\\n",
       "0    222       6.0        0  ...        0        1           0           0   \n",
       "1    222       3.0        0  ...        0        1           0           0   \n",
       "2    222       6.0        0  ...        0        1           0           0   \n",
       "3    222       4.0        0  ...        0        1           0           0   \n",
       "\n",
       "   bat_team_3  bat_team_4  bowl_team_1  bowl_team_2  bowl_team_3  bowl_team_4  \n",
       "0           0           1            0            0            0            1  \n",
       "1           0           1            0            0            0            1  \n",
       "2           0           1            0            0            0            1  \n",
       "3           0           1            0            0            0            1  \n",
       "\n",
       "[4 rows x 23 columns]"
      ]
     },
     "execution_count": 43,
     "metadata": {},
     "output_type": "execute_result"
    }
   ],
   "source": [
    "df.head(4)"
   ]
  },
  {
   "cell_type": "code",
   "execution_count": 44,
   "metadata": {},
   "outputs": [
    {
     "name": "stdout",
     "output_type": "stream",
     "text": [
      "Index(['runs', 'wickets', 'overs', 'runs_last_5', 'wickets_last_5', 'striker',\n",
      "       'non-striker', 'total', 'run_rate', 'venue_1', 'venue_2', 'venue_3',\n",
      "       'venue_4', 'venue_5', 'venue_6', 'bat_team_1', 'bat_team_2',\n",
      "       'bat_team_3', 'bat_team_4', 'bowl_team_1', 'bowl_team_2', 'bowl_team_3',\n",
      "       'bowl_team_4'],\n",
      "      dtype='object')\n"
     ]
    }
   ],
   "source": [
    "print(df.columns)"
   ]
  },
  {
   "cell_type": "code",
   "execution_count": 45,
   "metadata": {
    "id": "wx9RHyu7yU7a"
   },
   "outputs": [],
   "source": [
    "# Lets use train_test_split\n",
    "# as our target is total so y will be total and all other 38 featuers will be on x.\n",
    "\n",
    "from sklearn.model_selection import train_test_split\n",
    "\n",
    "X = df.drop('total', axis = 1)\n",
    "y = df['total']\n",
    "\n",
    "X_train, X_test, y_train, y_test = train_test_split(X, y, test_size = 0.25, random_state = 42, stratify = y)"
   ]
  },
  {
   "cell_type": "code",
   "execution_count": 46,
   "metadata": {
    "colab": {
     "base_uri": "https://localhost:8080/",
     "height": 456
    },
    "id": "WTe1DeY_7PPB",
    "outputId": "ac95927b-162f-4c31-99f2-880d59e46570"
   },
   "outputs": [
    {
     "data": {
      "text/html": [
       "<div>\n",
       "<style scoped>\n",
       "    .dataframe tbody tr th:only-of-type {\n",
       "        vertical-align: middle;\n",
       "    }\n",
       "\n",
       "    .dataframe tbody tr th {\n",
       "        vertical-align: top;\n",
       "    }\n",
       "\n",
       "    .dataframe thead th {\n",
       "        text-align: right;\n",
       "    }\n",
       "</style>\n",
       "<table border=\"1\" class=\"dataframe\">\n",
       "  <thead>\n",
       "    <tr style=\"text-align: right;\">\n",
       "      <th></th>\n",
       "      <th>runs</th>\n",
       "      <th>wickets</th>\n",
       "      <th>overs</th>\n",
       "      <th>runs_last_5</th>\n",
       "      <th>wickets_last_5</th>\n",
       "      <th>striker</th>\n",
       "      <th>non-striker</th>\n",
       "      <th>run_rate</th>\n",
       "      <th>venue_1</th>\n",
       "      <th>venue_2</th>\n",
       "      <th>...</th>\n",
       "      <th>venue_5</th>\n",
       "      <th>venue_6</th>\n",
       "      <th>bat_team_1</th>\n",
       "      <th>bat_team_2</th>\n",
       "      <th>bat_team_3</th>\n",
       "      <th>bat_team_4</th>\n",
       "      <th>bowl_team_1</th>\n",
       "      <th>bowl_team_2</th>\n",
       "      <th>bowl_team_3</th>\n",
       "      <th>bowl_team_4</th>\n",
       "    </tr>\n",
       "  </thead>\n",
       "  <tbody>\n",
       "    <tr>\n",
       "      <th>19921</th>\n",
       "      <td>88</td>\n",
       "      <td>2</td>\n",
       "      <td>12.5</td>\n",
       "      <td>30</td>\n",
       "      <td>1</td>\n",
       "      <td>31</td>\n",
       "      <td>0</td>\n",
       "      <td>6.857143</td>\n",
       "      <td>0</td>\n",
       "      <td>1</td>\n",
       "      <td>...</td>\n",
       "      <td>1</td>\n",
       "      <td>0</td>\n",
       "      <td>0</td>\n",
       "      <td>1</td>\n",
       "      <td>1</td>\n",
       "      <td>0</td>\n",
       "      <td>1</td>\n",
       "      <td>0</td>\n",
       "      <td>0</td>\n",
       "      <td>0</td>\n",
       "    </tr>\n",
       "    <tr>\n",
       "      <th>19076</th>\n",
       "      <td>101</td>\n",
       "      <td>8</td>\n",
       "      <td>17.4</td>\n",
       "      <td>26</td>\n",
       "      <td>3</td>\n",
       "      <td>24</td>\n",
       "      <td>4</td>\n",
       "      <td>5.716981</td>\n",
       "      <td>0</td>\n",
       "      <td>0</td>\n",
       "      <td>...</td>\n",
       "      <td>1</td>\n",
       "      <td>1</td>\n",
       "      <td>1</td>\n",
       "      <td>0</td>\n",
       "      <td>0</td>\n",
       "      <td>0</td>\n",
       "      <td>0</td>\n",
       "      <td>0</td>\n",
       "      <td>1</td>\n",
       "      <td>0</td>\n",
       "    </tr>\n",
       "    <tr>\n",
       "      <th>7756</th>\n",
       "      <td>48</td>\n",
       "      <td>3</td>\n",
       "      <td>5.4</td>\n",
       "      <td>44</td>\n",
       "      <td>3</td>\n",
       "      <td>15</td>\n",
       "      <td>0</td>\n",
       "      <td>8.470588</td>\n",
       "      <td>0</td>\n",
       "      <td>0</td>\n",
       "      <td>...</td>\n",
       "      <td>0</td>\n",
       "      <td>0</td>\n",
       "      <td>0</td>\n",
       "      <td>1</td>\n",
       "      <td>1</td>\n",
       "      <td>1</td>\n",
       "      <td>0</td>\n",
       "      <td>0</td>\n",
       "      <td>1</td>\n",
       "      <td>0</td>\n",
       "    </tr>\n",
       "    <tr>\n",
       "      <th>8116</th>\n",
       "      <td>16</td>\n",
       "      <td>1</td>\n",
       "      <td>3.2</td>\n",
       "      <td>16</td>\n",
       "      <td>1</td>\n",
       "      <td>10</td>\n",
       "      <td>5</td>\n",
       "      <td>4.800000</td>\n",
       "      <td>0</td>\n",
       "      <td>0</td>\n",
       "      <td>...</td>\n",
       "      <td>1</td>\n",
       "      <td>0</td>\n",
       "      <td>0</td>\n",
       "      <td>1</td>\n",
       "      <td>1</td>\n",
       "      <td>0</td>\n",
       "      <td>0</td>\n",
       "      <td>1</td>\n",
       "      <td>0</td>\n",
       "      <td>1</td>\n",
       "    </tr>\n",
       "  </tbody>\n",
       "</table>\n",
       "<p>4 rows × 22 columns</p>\n",
       "</div>"
      ],
      "text/plain": [
       "       runs  wickets  overs  runs_last_5  wickets_last_5  striker  \\\n",
       "19921    88        2   12.5           30               1       31   \n",
       "19076   101        8   17.4           26               3       24   \n",
       "7756     48        3    5.4           44               3       15   \n",
       "8116     16        1    3.2           16               1       10   \n",
       "\n",
       "       non-striker  run_rate  venue_1  venue_2  ...  venue_5  venue_6  \\\n",
       "19921            0  6.857143        0        1  ...        1        0   \n",
       "19076            4  5.716981        0        0  ...        1        1   \n",
       "7756             0  8.470588        0        0  ...        0        0   \n",
       "8116             5  4.800000        0        0  ...        1        0   \n",
       "\n",
       "       bat_team_1  bat_team_2  bat_team_3  bat_team_4  bowl_team_1  \\\n",
       "19921           0           1           1           0            1   \n",
       "19076           1           0           0           0            0   \n",
       "7756            0           1           1           1            0   \n",
       "8116            0           1           1           0            0   \n",
       "\n",
       "       bowl_team_2  bowl_team_3  bowl_team_4  \n",
       "19921            0            0            0  \n",
       "19076            0            1            0  \n",
       "7756             0            1            0  \n",
       "8116             1            0            1  \n",
       "\n",
       "[4 rows x 22 columns]"
      ]
     },
     "execution_count": 46,
     "metadata": {},
     "output_type": "execute_result"
    }
   ],
   "source": [
    "X_train.head(4)"
   ]
  },
  {
   "cell_type": "code",
   "execution_count": 47,
   "metadata": {
    "id": "0kfm3NKWylAf"
   },
   "outputs": [],
   "source": [
    "from sklearn.preprocessing import StandardScaler\n",
    "sc = StandardScaler()\n",
    "\n",
    "X_train[X_train.columns] = sc.fit_transform(X_train)\n",
    "X_test[X_test.columns] = sc.fit_transform(X_test)"
   ]
  },
  {
   "cell_type": "code",
   "execution_count": 48,
   "metadata": {
    "colab": {
     "base_uri": "https://localhost:8080/",
     "height": 456
    },
    "id": "sW44ofqA75X6",
    "outputId": "502c23c8-bc0e-490d-e44f-c56f4286b33f"
   },
   "outputs": [
    {
     "data": {
      "text/html": [
       "<div>\n",
       "<style scoped>\n",
       "    .dataframe tbody tr th:only-of-type {\n",
       "        vertical-align: middle;\n",
       "    }\n",
       "\n",
       "    .dataframe tbody tr th {\n",
       "        vertical-align: top;\n",
       "    }\n",
       "\n",
       "    .dataframe thead th {\n",
       "        text-align: right;\n",
       "    }\n",
       "</style>\n",
       "<table border=\"1\" class=\"dataframe\">\n",
       "  <thead>\n",
       "    <tr style=\"text-align: right;\">\n",
       "      <th></th>\n",
       "      <th>runs</th>\n",
       "      <th>wickets</th>\n",
       "      <th>overs</th>\n",
       "      <th>runs_last_5</th>\n",
       "      <th>wickets_last_5</th>\n",
       "      <th>striker</th>\n",
       "      <th>non-striker</th>\n",
       "      <th>run_rate</th>\n",
       "      <th>venue_1</th>\n",
       "      <th>venue_2</th>\n",
       "      <th>...</th>\n",
       "      <th>venue_5</th>\n",
       "      <th>venue_6</th>\n",
       "      <th>bat_team_1</th>\n",
       "      <th>bat_team_2</th>\n",
       "      <th>bat_team_3</th>\n",
       "      <th>bat_team_4</th>\n",
       "      <th>bowl_team_1</th>\n",
       "      <th>bowl_team_2</th>\n",
       "      <th>bowl_team_3</th>\n",
       "      <th>bowl_team_4</th>\n",
       "    </tr>\n",
       "  </thead>\n",
       "  <tbody>\n",
       "    <tr>\n",
       "      <th>39704</th>\n",
       "      <td>0.099290</td>\n",
       "      <td>-0.210744</td>\n",
       "      <td>-0.037703</td>\n",
       "      <td>1.258702</td>\n",
       "      <td>-1.066526</td>\n",
       "      <td>1.539685</td>\n",
       "      <td>0.583406</td>\n",
       "      <td>0.351204</td>\n",
       "      <td>-0.264955</td>\n",
       "      <td>-0.483655</td>\n",
       "      <td>...</td>\n",
       "      <td>-0.913832</td>\n",
       "      <td>-1.069874</td>\n",
       "      <td>-0.577208</td>\n",
       "      <td>1.039254</td>\n",
       "      <td>-1.109991</td>\n",
       "      <td>-0.95364</td>\n",
       "      <td>-0.495801</td>\n",
       "      <td>-0.955755</td>\n",
       "      <td>0.956562</td>\n",
       "      <td>0.885099</td>\n",
       "    </tr>\n",
       "    <tr>\n",
       "      <th>57118</th>\n",
       "      <td>-0.965605</td>\n",
       "      <td>-0.705991</td>\n",
       "      <td>-0.971827</td>\n",
       "      <td>-0.352926</td>\n",
       "      <td>-0.118885</td>\n",
       "      <td>-0.549391</td>\n",
       "      <td>-0.637056</td>\n",
       "      <td>-0.330272</td>\n",
       "      <td>-0.264955</td>\n",
       "      <td>2.067589</td>\n",
       "      <td>...</td>\n",
       "      <td>1.094293</td>\n",
       "      <td>0.934689</td>\n",
       "      <td>-0.577208</td>\n",
       "      <td>-0.962229</td>\n",
       "      <td>0.900908</td>\n",
       "      <td>-0.95364</td>\n",
       "      <td>-0.495801</td>\n",
       "      <td>1.046293</td>\n",
       "      <td>-1.045410</td>\n",
       "      <td>0.885099</td>\n",
       "    </tr>\n",
       "    <tr>\n",
       "      <th>71490</th>\n",
       "      <td>-1.272787</td>\n",
       "      <td>-1.201238</td>\n",
       "      <td>-1.456188</td>\n",
       "      <td>-1.360194</td>\n",
       "      <td>-1.066526</td>\n",
       "      <td>-0.897571</td>\n",
       "      <td>-0.261529</td>\n",
       "      <td>0.262612</td>\n",
       "      <td>-0.264955</td>\n",
       "      <td>2.067589</td>\n",
       "      <td>...</td>\n",
       "      <td>-0.913832</td>\n",
       "      <td>-1.069874</td>\n",
       "      <td>-0.577208</td>\n",
       "      <td>1.039254</td>\n",
       "      <td>0.900908</td>\n",
       "      <td>-0.95364</td>\n",
       "      <td>-0.495801</td>\n",
       "      <td>1.046293</td>\n",
       "      <td>0.956562</td>\n",
       "      <td>-1.129817</td>\n",
       "    </tr>\n",
       "    <tr>\n",
       "      <th>22590</th>\n",
       "      <td>-0.289806</td>\n",
       "      <td>-0.705991</td>\n",
       "      <td>-0.279883</td>\n",
       "      <td>0.318585</td>\n",
       "      <td>-0.118885</td>\n",
       "      <td>0.544887</td>\n",
       "      <td>0.301761</td>\n",
       "      <td>0.049992</td>\n",
       "      <td>-0.264955</td>\n",
       "      <td>-0.483655</td>\n",
       "      <td>...</td>\n",
       "      <td>-0.913832</td>\n",
       "      <td>-1.069874</td>\n",
       "      <td>-0.577208</td>\n",
       "      <td>1.039254</td>\n",
       "      <td>-1.109991</td>\n",
       "      <td>-0.95364</td>\n",
       "      <td>2.016937</td>\n",
       "      <td>-0.955755</td>\n",
       "      <td>0.956562</td>\n",
       "      <td>-1.129817</td>\n",
       "    </tr>\n",
       "  </tbody>\n",
       "</table>\n",
       "<p>4 rows × 22 columns</p>\n",
       "</div>"
      ],
      "text/plain": [
       "           runs   wickets     overs  runs_last_5  wickets_last_5   striker  \\\n",
       "39704  0.099290 -0.210744 -0.037703     1.258702       -1.066526  1.539685   \n",
       "57118 -0.965605 -0.705991 -0.971827    -0.352926       -0.118885 -0.549391   \n",
       "71490 -1.272787 -1.201238 -1.456188    -1.360194       -1.066526 -0.897571   \n",
       "22590 -0.289806 -0.705991 -0.279883     0.318585       -0.118885  0.544887   \n",
       "\n",
       "       non-striker  run_rate   venue_1   venue_2  ...   venue_5   venue_6  \\\n",
       "39704     0.583406  0.351204 -0.264955 -0.483655  ... -0.913832 -1.069874   \n",
       "57118    -0.637056 -0.330272 -0.264955  2.067589  ...  1.094293  0.934689   \n",
       "71490    -0.261529  0.262612 -0.264955  2.067589  ... -0.913832 -1.069874   \n",
       "22590     0.301761  0.049992 -0.264955 -0.483655  ... -0.913832 -1.069874   \n",
       "\n",
       "       bat_team_1  bat_team_2  bat_team_3  bat_team_4  bowl_team_1  \\\n",
       "39704   -0.577208    1.039254   -1.109991    -0.95364    -0.495801   \n",
       "57118   -0.577208   -0.962229    0.900908    -0.95364    -0.495801   \n",
       "71490   -0.577208    1.039254    0.900908    -0.95364    -0.495801   \n",
       "22590   -0.577208    1.039254   -1.109991    -0.95364     2.016937   \n",
       "\n",
       "       bowl_team_2  bowl_team_3  bowl_team_4  \n",
       "39704    -0.955755     0.956562     0.885099  \n",
       "57118     1.046293    -1.045410     0.885099  \n",
       "71490     1.046293     0.956562    -1.129817  \n",
       "22590    -0.955755     0.956562    -1.129817  \n",
       "\n",
       "[4 rows x 22 columns]"
      ]
     },
     "execution_count": 48,
     "metadata": {},
     "output_type": "execute_result"
    }
   ],
   "source": [
    "X_test.head(4)"
   ]
  },
  {
   "cell_type": "markdown",
   "metadata": {
    "id": "g1qc7CQu8SXh"
   },
   "source": [
    "## Model Selection"
   ]
  },
  {
   "cell_type": "code",
   "execution_count": 49,
   "metadata": {
    "id": "BVI5lw4-8Wrn"
   },
   "outputs": [],
   "source": [
    "# As our model are regressor models\n",
    "# so we will use r2_score, mean_squared error, \n",
    "# and mean_absolute_error for evaluating the models.\n",
    "\n",
    "from sklearn.metrics import mean_absolute_error, r2_score, mean_squared_error\n",
    "\n",
    "def evaluation(model, X_train, y_train, X_test, y_test, train = True):\n",
    "    \"\"\"\n",
    "    A function that returns the score of every evaluation metrics\n",
    "    \"\"\"\n",
    "    if train == True:\n",
    "        pred = model.predict(X_train)\n",
    "        print(\"Train Result:\\n========================================\")\n",
    "        print(f\"mean absolute error: {mean_absolute_error(y_train, pred)}\")\n",
    "        print(\"_______________________________________________\")\n",
    "        print(f\"root mean squared error: {np.sqrt(mean_squared_error(y_train, pred))}\")\n",
    "        print(\"_______________________________________________\")\n",
    "        print(f\"r2 Score: {round(r2_score(y_train, pred), 2)}\")\n",
    "        \n",
    "    if train == False:\n",
    "        pred = model.predict(X_test)\n",
    "        print(\"Test Result:\\n=========================================\")\n",
    "        print(f\"mean absolute error: {mean_absolute_error(y_test, pred)}\")\n",
    "        print(\"_______________________________________________\")\n",
    "        print(f\"root mean squared error: {np.sqrt(mean_squared_error(y_test, pred))}\")\n",
    "        print(\"_______________________________________________\")\n",
    "        print(f\"r2 Score: {round(r2_score(y_test, pred), 2)}\")\n"
   ]
  },
  {
   "cell_type": "markdown",
   "metadata": {
    "id": "vtgJJ0w3DvEH"
   },
   "source": [
    "## Linear Regression"
   ]
  },
  {
   "cell_type": "code",
   "execution_count": 61,
   "metadata": {
    "colab": {
     "base_uri": "https://localhost:8080/"
    },
    "id": "bex7_TDlAetA",
    "outputId": "a57bde93-8c83-4abd-c8be-6021fa27663f"
   },
   "outputs": [
    {
     "name": "stdout",
     "output_type": "stream",
     "text": [
      "Train Result:\n",
      "========================================\n",
      "mean absolute error: 14.933856320583489\n",
      "_______________________________________________\n",
      "root mean squared error: 20.206383892088457\n",
      "_______________________________________________\n",
      "r2 Score: 0.52\n",
      "\n",
      "Test Result:\n",
      "=========================================\n",
      "mean absolute error: 14.794661804350412\n",
      "_______________________________________________\n",
      "root mean squared error: 20.10209060796368\n",
      "_______________________________________________\n",
      "r2 Score: 0.52\n"
     ]
    }
   ],
   "source": [
    "from sklearn.linear_model import LinearRegression\n",
    "\n",
    "lr = LinearRegression()\n",
    "lr.fit(X_train, y_train)\n",
    "\n",
    "evaluation(lr, X_train, y_train, X_test, y_test, True)\n",
    "print()\n",
    "evaluation(lr, X_train, y_train, X_test, y_test, False)"
   ]
  },
  {
   "cell_type": "raw",
   "metadata": {},
   "source": [
    "As we can see that\n",
    "absolute error is 14.\n",
    "mean_squared_error is 20\n",
    "for train result.\n",
    "for test result it is also similar."
   ]
  },
  {
   "cell_type": "markdown",
   "metadata": {
    "id": "geOm6pRfDyL3"
   },
   "source": [
    "## Random Forest"
   ]
  },
  {
   "cell_type": "code",
   "execution_count": 62,
   "metadata": {
    "colab": {
     "base_uri": "https://localhost:8080/",
     "height": 282
    },
    "id": "7Ohhdv5IDuL_",
    "outputId": "7e32acda-de78-4f5a-8000-729f108fb515"
   },
   "outputs": [],
   "source": [
    "from sklearn.ensemble import RandomForestRegressor\n",
    "# ## Finding out the right number of estimators\n",
    "# root_mean_squared_error = []\n",
    "# for i in range(1, 200, 10):\n",
    "#     rfc = RandomForestRegressor(n_estimators = i, random_state = 0)\n",
    "#     rfc.fit(X_train, y_train)\n",
    "#     root_mean_squared_error.append(np.sqrt(mean_squared_error(y_test, rfc.predict(X_test))))\n",
    "# plt.plot(root_mean_squared_error)"
   ]
  },
  {
   "cell_type": "code",
   "execution_count": 63,
   "metadata": {
    "colab": {
     "base_uri": "https://localhost:8080/"
    },
    "id": "mgylUwFBNp_5",
    "outputId": "9ed79e62-ee34-40e5-da31-a0eafe6a0435"
   },
   "outputs": [
    {
     "name": "stdout",
     "output_type": "stream",
     "text": [
      "Train Result:\n",
      "========================================\n",
      "mean absolute error: 1.687337835053404\n",
      "_______________________________________________\n",
      "root mean squared error: 3.6823750298816917\n",
      "_______________________________________________\n",
      "r2 Score: 0.98\n",
      "\n",
      "Test Result:\n",
      "=========================================\n",
      "mean absolute error: 4.159194042291832\n",
      "_______________________________________________\n",
      "root mean squared error: 8.523982779068696\n",
      "_______________________________________________\n",
      "r2 Score: 0.91\n"
     ]
    }
   ],
   "source": [
    "from sklearn.ensemble import RandomForestRegressor\n",
    "rfc = RandomForestRegressor(n_estimators = 25, random_state = 0)\n",
    "rfc.fit(X_train, y_train)\n",
    "\n",
    "evaluation(rfc, X_train, y_train, X_test, y_test, True)\n",
    "print()\n",
    "evaluation(rfc, X_train, y_train, X_test, y_test, False)"
   ]
  },
  {
   "cell_type": "code",
   "execution_count": null,
   "metadata": {},
   "outputs": [],
   "source": [
    "# Perfect positive linear association. The points are exactly on the trend line.\n",
    "# Correlation r = 1; R-squared = 1.00\n",
    "# Large positive linear association. The points are close to the linear trend line.\n",
    "# Correlation r = 0.9; R=squared = 0.81.\n",
    "# Small positive linear association. The points are far from the trend line.\n",
    "# Correlation r = 0.45; R-squared = 0.2025.\n",
    "# No association. There is no association between the variables.\n",
    "# Correlation r = 0.0; R-squared = 0.0.\n",
    "# Small negative association.\n",
    "# Correlation r = -0.3. R-squared = 0.09.\n",
    "# Large negative association.\n",
    "# Correlation r = -0.95; R-squared = 0.9025\n",
    "# Perfect negative association.\n",
    "# Correlation r = -1. R-squared = 1.00."
   ]
  },
  {
   "cell_type": "code",
   "execution_count": null,
   "metadata": {},
   "outputs": [],
   "source": [
    "# As we can see that error when doing with random forest is very low. \n",
    "# and also we are getting about 0.91 r2 Score \n",
    "# that is around 91% accuracy."
   ]
  },
  {
   "cell_type": "code",
   "execution_count": 91,
   "metadata": {},
   "outputs": [],
   "source": [
    "## Ridge Regression\n",
    "from sklearn.linear_model import Ridge\n",
    "from sklearn.model_selection import GridSearchCV"
   ]
  },
  {
   "cell_type": "code",
   "execution_count": 92,
   "metadata": {},
   "outputs": [
    {
     "data": {
      "text/plain": [
       "GridSearchCV(cv=5, estimator=Ridge(),\n",
       "             param_grid={'alpha': [1e-15, 1e-10, 1e-08, 0.001, 0.01, 1, 5, 10,\n",
       "                                   20, 30, 35, 40]},\n",
       "             scoring='neg_mean_squared_error')"
      ]
     },
     "execution_count": 92,
     "metadata": {},
     "output_type": "execute_result"
    }
   ],
   "source": [
    "ridge=Ridge()\n",
    "parameters={'alpha':[1e-15,1e-10,1e-8,1e-3,1e-2,1,5,10,20,30,35,40]}\n",
    "ridge_regressor=GridSearchCV(ridge,parameters,scoring='neg_mean_squared_error',cv=5)\n",
    "ridge_regressor.fit(X_train,y_train)"
   ]
  },
  {
   "cell_type": "code",
   "execution_count": 93,
   "metadata": {},
   "outputs": [
    {
     "name": "stdout",
     "output_type": "stream",
     "text": [
      "{'alpha': 1e-15}\n",
      "-1.7818546362224422e-25\n"
     ]
    }
   ],
   "source": [
    "print(ridge_regressor.best_params_)\n",
    "print(ridge_regressor.best_score_)"
   ]
  },
  {
   "cell_type": "code",
   "execution_count": 96,
   "metadata": {},
   "outputs": [],
   "source": [
    "prediction=ridge_regressor.predict(X_test)"
   ]
  },
  {
   "cell_type": "code",
   "execution_count": 97,
   "metadata": {},
   "outputs": [
    {
     "data": {
      "text/plain": [
       "<matplotlib.axes._subplots.AxesSubplot at 0x25d8beb50a0>"
      ]
     },
     "execution_count": 97,
     "metadata": {},
     "output_type": "execute_result"
    },
    {
     "data": {
      "image/png": "[encoded data removed]",
      "text/plain": [
       "<Figure size 432x288 with 1 Axes>"
      ]
     },
     "metadata": {
      "needs_background": "light"
     },
     "output_type": "display_data"
    }
   ],
   "source": [
    "import seaborn as sns\n",
    "sns.distplot(y_test-prediction)"
   ]
  },
  {
   "cell_type": "code",
   "execution_count": 98,
   "metadata": {},
   "outputs": [
    {
     "name": "stdout",
     "output_type": "stream",
     "text": [
      "MAE: 1.402555063111295e-12\n",
      "MSE: 3.509636819935275e-24\n",
      "RMSE: 1.8734024714233925e-12\n"
     ]
    }
   ],
   "source": [
    "from sklearn import metrics\n",
    "import numpy as np\n",
    "print('MAE:', metrics.mean_absolute_error(y_test, prediction))\n",
    "print('MSE:', metrics.mean_squared_error(y_test, prediction))\n",
    "print('RMSE:', np.sqrt(metrics.mean_squared_error(y_test, prediction)))"
   ]
  },
  {
   "cell_type": "code",
   "execution_count": 114,
   "metadata": {},
   "outputs": [
    {
     "name": "stdout",
     "output_type": "stream",
     "text": [
      "Test Result:\n",
      "=========================================\n",
      "mean absolute error: 1.402555063111295e-12\n",
      "_______________________________________________\n",
      "root mean squared error: 1.8734024714233925e-12\n",
      "_______________________________________________\n",
      "r2 Score: 1.0\n"
     ]
    }
   ],
   "source": [
    "evaluation(ridge_regressor, X_train, y_train, X_test, y_test, False)"
   ]
  },
  {
   "cell_type": "code",
   "execution_count": 100,
   "metadata": {},
   "outputs": [],
   "source": [
    "from sklearn.linear_model import Lasso\n",
    "from sklearn.model_selection import GridSearchCV"
   ]
  },
  {
   "cell_type": "code",
   "execution_count": 101,
   "metadata": {},
   "outputs": [],
   "source": [
    "# As we can see most of the scores are around 150."
   ]
  },
  {
   "cell_type": "code",
   "execution_count": 103,
   "metadata": {},
   "outputs": [
    {
     "name": "stdout",
     "output_type": "stream",
     "text": [
      "{'alpha': 0.001}\n",
      "-5.81588395570285e-06\n"
     ]
    }
   ],
   "source": [
    "lasso=Lasso()\n",
    "parameters={'alpha':[1e-15,1e-10,1e-8,1e-3,1e-2,1,5,10,20,30,35,40]}\n",
    "lasso_regressor=GridSearchCV(lasso,parameters,scoring='neg_mean_squared_error',cv=5)\n",
    "\n",
    "lasso_regressor.fit(X_train,y_train)\n",
    "print(lasso_regressor.best_params_)\n",
    "print(lasso_regressor.best_score_)"
   ]
  },
  {
   "cell_type": "code",
   "execution_count": 110,
   "metadata": {},
   "outputs": [],
   "source": [
    "p_lasso = lasso_regressor.predict(X_test)"
   ]
  },
  {
   "cell_type": "code",
   "execution_count": 111,
   "metadata": {},
   "outputs": [
    {
     "name": "stdout",
     "output_type": "stream",
     "text": [
      "MAE: 0.0019001292130106995\n",
      "MSE: 5.769439994108699e-06\n",
      "RMSE: 0.002401965860312902\n"
     ]
    }
   ],
   "source": [
    "print('MAE:', metrics.mean_absolute_error(y_test, p_lasso))\n",
    "print('MSE:', metrics.mean_squared_error(y_test, p_lasso))\n",
    "print('RMSE:', np.sqrt(metrics.mean_squared_error(y_test, p_lasso)))"
   ]
  },
  {
   "cell_type": "code",
   "execution_count": 113,
   "metadata": {},
   "outputs": [
    {
     "name": "stdout",
     "output_type": "stream",
     "text": [
      "Test Result:\n",
      "=========================================\n",
      "mean absolute error: 0.0019001292130106995\n",
      "_______________________________________________\n",
      "root mean squared error: 0.002401965860312902\n",
      "_______________________________________________\n",
      "r2 Score: 1.0\n"
     ]
    }
   ],
   "source": [
    "evaluation(lasso_regressor, X_train, y_train, X_test, y_test, False)"
   ]
  },
  {
   "cell_type": "markdown",
   "metadata": {
    "id": "6bhv-120PK8x"
   },
   "source": [
    "## Hyperparameter tuning"
   ]
  },
  {
   "cell_type": "code",
   "execution_count": 65,
   "metadata": {
    "colab": {
     "background_save": true,
     "base_uri": "https://localhost:8080/"
    },
    "id": "cdKOzZdePRo3",
    "outputId": "7d47f5d0-f9ef-44f0-e54d-1b5d276f00b9"
   },
   "outputs": [],
   "source": [
    "# from sklearn.model_selection import GridSearchCV\n",
    "\n",
    "# RFC = RandomForestRegressor()\n",
    "\n",
    "\n",
    "# ## Search grid for optimal parameters\n",
    "# rf_param_grid = {\"max_depth\": [None],\n",
    "#               \"max_features\": [1, 3, 10],\n",
    "#               \"min_samples_split\": [2, 3, 10],\n",
    "#               \"min_samples_leaf\": [1, 3, 10],\n",
    "#               \"bootstrap\": [False],\n",
    "#               \"n_estimators\" :[100,300]}\n",
    "\n",
    "\n",
    "# gsRFC = GridSearchCV(RFC,param_grid = rf_param_grid, n_jobs= 4, verbose = 1)\n",
    "\n",
    "# gsRFC.fit(X_train,y_train)\n",
    "\n",
    "# RFC_best = gsRFC.best_estimator_\n",
    "\n",
    "# # Best score\n",
    "# gsRFC.best_score_"
   ]
  },
  {
   "cell_type": "markdown",
   "metadata": {
    "id": "KnfGaxr0jmCk"
   },
   "source": [
    "### Data Prep"
   ]
  },
  {
   "cell_type": "code",
   "execution_count": 66,
   "metadata": {
    "colab": {
     "base_uri": "https://localhost:8080/",
     "height": 456
    },
    "id": "JRabbLc-Y-v_",
    "outputId": "525b41a5-0166-459f-c7c6-04a388e5b024"
   },
   "outputs": [
    {
     "data": {
      "text/html": [
       "<div>\n",
       "<style scoped>\n",
       "    .dataframe tbody tr th:only-of-type {\n",
       "        vertical-align: middle;\n",
       "    }\n",
       "\n",
       "    .dataframe tbody tr th {\n",
       "        vertical-align: top;\n",
       "    }\n",
       "\n",
       "    .dataframe thead th {\n",
       "        text-align: right;\n",
       "    }\n",
       "</style>\n",
       "<table border=\"1\" class=\"dataframe\">\n",
       "  <thead>\n",
       "    <tr style=\"text-align: right;\">\n",
       "      <th></th>\n",
       "      <th>runs</th>\n",
       "      <th>wickets</th>\n",
       "      <th>overs</th>\n",
       "      <th>runs_last_5</th>\n",
       "      <th>wickets_last_5</th>\n",
       "      <th>striker</th>\n",
       "      <th>non-striker</th>\n",
       "      <th>total</th>\n",
       "      <th>run_rate</th>\n",
       "      <th>venue_0</th>\n",
       "      <th>...</th>\n",
       "      <th>bat_team_0</th>\n",
       "      <th>bat_team_1</th>\n",
       "      <th>bat_team_2</th>\n",
       "      <th>bat_team_3</th>\n",
       "      <th>bat_team_4</th>\n",
       "      <th>bowl_team_0</th>\n",
       "      <th>bowl_team_1</th>\n",
       "      <th>bowl_team_2</th>\n",
       "      <th>bowl_team_3</th>\n",
       "      <th>bowl_team_4</th>\n",
       "    </tr>\n",
       "  </thead>\n",
       "  <tbody>\n",
       "    <tr>\n",
       "      <th>0</th>\n",
       "      <td>1</td>\n",
       "      <td>0</td>\n",
       "      <td>0.1</td>\n",
       "      <td>1</td>\n",
       "      <td>0</td>\n",
       "      <td>0</td>\n",
       "      <td>0</td>\n",
       "      <td>222</td>\n",
       "      <td>6.0</td>\n",
       "      <td>0</td>\n",
       "      <td>...</td>\n",
       "      <td>0</td>\n",
       "      <td>0</td>\n",
       "      <td>0</td>\n",
       "      <td>0</td>\n",
       "      <td>1</td>\n",
       "      <td>0</td>\n",
       "      <td>0</td>\n",
       "      <td>0</td>\n",
       "      <td>0</td>\n",
       "      <td>1</td>\n",
       "    </tr>\n",
       "  </tbody>\n",
       "</table>\n",
       "<p>1 rows × 26 columns</p>\n",
       "</div>"
      ],
      "text/plain": [
       "   runs  wickets  overs  runs_last_5  wickets_last_5  striker  non-striker  \\\n",
       "0     1        0    0.1            1               0        0            0   \n",
       "\n",
       "   total  run_rate  venue_0  ...  bat_team_0  bat_team_1  bat_team_2  \\\n",
       "0    222       6.0        0  ...           0           0           0   \n",
       "\n",
       "   bat_team_3  bat_team_4  bowl_team_0  bowl_team_1  bowl_team_2  bowl_team_3  \\\n",
       "0           0           1            0            0            0            0   \n",
       "\n",
       "   bowl_team_4  \n",
       "0            1  \n",
       "\n",
       "[1 rows x 26 columns]"
      ]
     },
     "execution_count": 66,
     "metadata": {},
     "output_type": "execute_result"
    }
   ],
   "source": [
    "data.head(1)"
   ]
  },
  {
   "cell_type": "code",
   "execution_count": 67,
   "metadata": {
    "colab": {
     "base_uri": "https://localhost:8080/",
     "height": 317
    },
    "id": "NhN6cEFqlTMV",
    "outputId": "8cf12a16-d2e5-45f9-9755-644e66a8953f"
   },
   "outputs": [
    {
     "data": {
      "text/html": [
       "<div>\n",
       "<style scoped>\n",
       "    .dataframe tbody tr th:only-of-type {\n",
       "        vertical-align: middle;\n",
       "    }\n",
       "\n",
       "    .dataframe tbody tr th {\n",
       "        vertical-align: top;\n",
       "    }\n",
       "\n",
       "    .dataframe thead th {\n",
       "        text-align: right;\n",
       "    }\n",
       "</style>\n",
       "<table border=\"1\" class=\"dataframe\">\n",
       "  <thead>\n",
       "    <tr style=\"text-align: right;\">\n",
       "      <th></th>\n",
       "      <th>runs</th>\n",
       "      <th>wickets</th>\n",
       "      <th>overs</th>\n",
       "      <th>runs_last_5</th>\n",
       "      <th>wickets_last_5</th>\n",
       "      <th>striker</th>\n",
       "      <th>non-striker</th>\n",
       "      <th>total</th>\n",
       "      <th>run_rate</th>\n",
       "      <th>venue_0</th>\n",
       "      <th>...</th>\n",
       "      <th>bat_team_0</th>\n",
       "      <th>bat_team_1</th>\n",
       "      <th>bat_team_2</th>\n",
       "      <th>bat_team_3</th>\n",
       "      <th>bat_team_4</th>\n",
       "      <th>bowl_team_0</th>\n",
       "      <th>bowl_team_1</th>\n",
       "      <th>bowl_team_2</th>\n",
       "      <th>bowl_team_3</th>\n",
       "      <th>bowl_team_4</th>\n",
       "    </tr>\n",
       "  </thead>\n",
       "  <tbody>\n",
       "    <tr>\n",
       "      <th>count</th>\n",
       "      <td>75977.000000</td>\n",
       "      <td>75977.000000</td>\n",
       "      <td>75977.000000</td>\n",
       "      <td>75977.000000</td>\n",
       "      <td>75977.000000</td>\n",
       "      <td>75977.000000</td>\n",
       "      <td>75977.000000</td>\n",
       "      <td>75977.000000</td>\n",
       "      <td>75977.000000</td>\n",
       "      <td>75977.0</td>\n",
       "      <td>...</td>\n",
       "      <td>75977.0</td>\n",
       "      <td>75977.000000</td>\n",
       "      <td>75977.000000</td>\n",
       "      <td>75977.000000</td>\n",
       "      <td>75977.000000</td>\n",
       "      <td>75977.0</td>\n",
       "      <td>75977.000000</td>\n",
       "      <td>75977.000000</td>\n",
       "      <td>75977.000000</td>\n",
       "      <td>75977.000000</td>\n",
       "    </tr>\n",
       "    <tr>\n",
       "      <th>mean</th>\n",
       "      <td>74.925135</td>\n",
       "      <td>2.417021</td>\n",
       "      <td>9.787832</td>\n",
       "      <td>33.231925</td>\n",
       "      <td>1.120852</td>\n",
       "      <td>24.974426</td>\n",
       "      <td>8.873606</td>\n",
       "      <td>160.899062</td>\n",
       "      <td>7.202921</td>\n",
       "      <td>0.0</td>\n",
       "      <td>...</td>\n",
       "      <td>0.0</td>\n",
       "      <td>0.252024</td>\n",
       "      <td>0.480158</td>\n",
       "      <td>0.552444</td>\n",
       "      <td>0.475065</td>\n",
       "      <td>0.0</td>\n",
       "      <td>0.196678</td>\n",
       "      <td>0.477710</td>\n",
       "      <td>0.522276</td>\n",
       "      <td>0.563289</td>\n",
       "    </tr>\n",
       "    <tr>\n",
       "      <th>std</th>\n",
       "      <td>48.808266</td>\n",
       "      <td>2.014992</td>\n",
       "      <td>5.769953</td>\n",
       "      <td>14.901259</td>\n",
       "      <td>1.053309</td>\n",
       "      <td>20.077097</td>\n",
       "      <td>10.796596</td>\n",
       "      <td>29.248812</td>\n",
       "      <td>2.233949</td>\n",
       "      <td>0.0</td>\n",
       "      <td>...</td>\n",
       "      <td>0.0</td>\n",
       "      <td>0.434178</td>\n",
       "      <td>0.499609</td>\n",
       "      <td>0.497245</td>\n",
       "      <td>0.499381</td>\n",
       "      <td>0.0</td>\n",
       "      <td>0.397489</td>\n",
       "      <td>0.499506</td>\n",
       "      <td>0.499507</td>\n",
       "      <td>0.495982</td>\n",
       "    </tr>\n",
       "    <tr>\n",
       "      <th>min</th>\n",
       "      <td>0.000000</td>\n",
       "      <td>0.000000</td>\n",
       "      <td>0.100000</td>\n",
       "      <td>0.000000</td>\n",
       "      <td>0.000000</td>\n",
       "      <td>0.000000</td>\n",
       "      <td>0.000000</td>\n",
       "      <td>67.000000</td>\n",
       "      <td>0.000000</td>\n",
       "      <td>0.0</td>\n",
       "      <td>...</td>\n",
       "      <td>0.0</td>\n",
       "      <td>0.000000</td>\n",
       "      <td>0.000000</td>\n",
       "      <td>0.000000</td>\n",
       "      <td>0.000000</td>\n",
       "      <td>0.0</td>\n",
       "      <td>0.000000</td>\n",
       "      <td>0.000000</td>\n",
       "      <td>0.000000</td>\n",
       "      <td>0.000000</td>\n",
       "    </tr>\n",
       "    <tr>\n",
       "      <th>25%</th>\n",
       "      <td>34.000000</td>\n",
       "      <td>1.000000</td>\n",
       "      <td>4.600000</td>\n",
       "      <td>24.000000</td>\n",
       "      <td>0.000000</td>\n",
       "      <td>10.000000</td>\n",
       "      <td>1.000000</td>\n",
       "      <td>142.000000</td>\n",
       "      <td>6.000000</td>\n",
       "      <td>0.0</td>\n",
       "      <td>...</td>\n",
       "      <td>0.0</td>\n",
       "      <td>0.000000</td>\n",
       "      <td>0.000000</td>\n",
       "      <td>0.000000</td>\n",
       "      <td>0.000000</td>\n",
       "      <td>0.0</td>\n",
       "      <td>0.000000</td>\n",
       "      <td>0.000000</td>\n",
       "      <td>0.000000</td>\n",
       "      <td>0.000000</td>\n",
       "    </tr>\n",
       "    <tr>\n",
       "      <th>50%</th>\n",
       "      <td>70.000000</td>\n",
       "      <td>2.000000</td>\n",
       "      <td>9.600000</td>\n",
       "      <td>34.000000</td>\n",
       "      <td>1.000000</td>\n",
       "      <td>20.000000</td>\n",
       "      <td>5.000000</td>\n",
       "      <td>162.000000</td>\n",
       "      <td>7.232143</td>\n",
       "      <td>0.0</td>\n",
       "      <td>...</td>\n",
       "      <td>0.0</td>\n",
       "      <td>0.000000</td>\n",
       "      <td>0.000000</td>\n",
       "      <td>1.000000</td>\n",
       "      <td>0.000000</td>\n",
       "      <td>0.0</td>\n",
       "      <td>0.000000</td>\n",
       "      <td>0.000000</td>\n",
       "      <td>1.000000</td>\n",
       "      <td>1.000000</td>\n",
       "    </tr>\n",
       "    <tr>\n",
       "      <th>75%</th>\n",
       "      <td>111.000000</td>\n",
       "      <td>4.000000</td>\n",
       "      <td>14.600000</td>\n",
       "      <td>43.000000</td>\n",
       "      <td>2.000000</td>\n",
       "      <td>35.000000</td>\n",
       "      <td>13.000000</td>\n",
       "      <td>181.000000</td>\n",
       "      <td>8.400000</td>\n",
       "      <td>0.0</td>\n",
       "      <td>...</td>\n",
       "      <td>0.0</td>\n",
       "      <td>1.000000</td>\n",
       "      <td>1.000000</td>\n",
       "      <td>1.000000</td>\n",
       "      <td>1.000000</td>\n",
       "      <td>0.0</td>\n",
       "      <td>0.000000</td>\n",
       "      <td>1.000000</td>\n",
       "      <td>1.000000</td>\n",
       "      <td>1.000000</td>\n",
       "    </tr>\n",
       "    <tr>\n",
       "      <th>max</th>\n",
       "      <td>263.000000</td>\n",
       "      <td>10.000000</td>\n",
       "      <td>19.600000</td>\n",
       "      <td>113.000000</td>\n",
       "      <td>7.000000</td>\n",
       "      <td>175.000000</td>\n",
       "      <td>109.000000</td>\n",
       "      <td>263.000000</td>\n",
       "      <td>66.000000</td>\n",
       "      <td>0.0</td>\n",
       "      <td>...</td>\n",
       "      <td>0.0</td>\n",
       "      <td>1.000000</td>\n",
       "      <td>1.000000</td>\n",
       "      <td>1.000000</td>\n",
       "      <td>1.000000</td>\n",
       "      <td>0.0</td>\n",
       "      <td>1.000000</td>\n",
       "      <td>1.000000</td>\n",
       "      <td>1.000000</td>\n",
       "      <td>1.000000</td>\n",
       "    </tr>\n",
       "  </tbody>\n",
       "</table>\n",
       "<p>8 rows × 26 columns</p>\n",
       "</div>"
      ],
      "text/plain": [
       "               runs       wickets         overs   runs_last_5  wickets_last_5  \\\n",
       "count  75977.000000  75977.000000  75977.000000  75977.000000    75977.000000   \n",
       "mean      74.925135      2.417021      9.787832     33.231925        1.120852   \n",
       "std       48.808266      2.014992      5.769953     14.901259        1.053309   \n",
       "min        0.000000      0.000000      0.100000      0.000000        0.000000   \n",
       "25%       34.000000      1.000000      4.600000     24.000000        0.000000   \n",
       "50%       70.000000      2.000000      9.600000     34.000000        1.000000   \n",
       "75%      111.000000      4.000000     14.600000     43.000000        2.000000   \n",
       "max      263.000000     10.000000     19.600000    113.000000        7.000000   \n",
       "\n",
       "            striker   non-striker         total      run_rate  venue_0  ...  \\\n",
       "count  75977.000000  75977.000000  75977.000000  75977.000000  75977.0  ...   \n",
       "mean      24.974426      8.873606    160.899062      7.202921      0.0  ...   \n",
       "std       20.077097     10.796596     29.248812      2.233949      0.0  ...   \n",
       "min        0.000000      0.000000     67.000000      0.000000      0.0  ...   \n",
       "25%       10.000000      1.000000    142.000000      6.000000      0.0  ...   \n",
       "50%       20.000000      5.000000    162.000000      7.232143      0.0  ...   \n",
       "75%       35.000000     13.000000    181.000000      8.400000      0.0  ...   \n",
       "max      175.000000    109.000000    263.000000     66.000000      0.0  ...   \n",
       "\n",
       "       bat_team_0    bat_team_1    bat_team_2    bat_team_3    bat_team_4  \\\n",
       "count     75977.0  75977.000000  75977.000000  75977.000000  75977.000000   \n",
       "mean          0.0      0.252024      0.480158      0.552444      0.475065   \n",
       "std           0.0      0.434178      0.499609      0.497245      0.499381   \n",
       "min           0.0      0.000000      0.000000      0.000000      0.000000   \n",
       "25%           0.0      0.000000      0.000000      0.000000      0.000000   \n",
       "50%           0.0      0.000000      0.000000      1.000000      0.000000   \n",
       "75%           0.0      1.000000      1.000000      1.000000      1.000000   \n",
       "max           0.0      1.000000      1.000000      1.000000      1.000000   \n",
       "\n",
       "       bowl_team_0   bowl_team_1   bowl_team_2   bowl_team_3   bowl_team_4  \n",
       "count      75977.0  75977.000000  75977.000000  75977.000000  75977.000000  \n",
       "mean           0.0      0.196678      0.477710      0.522276      0.563289  \n",
       "std            0.0      0.397489      0.499506      0.499507      0.495982  \n",
       "min            0.0      0.000000      0.000000      0.000000      0.000000  \n",
       "25%            0.0      0.000000      0.000000      0.000000      0.000000  \n",
       "50%            0.0      0.000000      0.000000      1.000000      1.000000  \n",
       "75%            0.0      0.000000      1.000000      1.000000      1.000000  \n",
       "max            0.0      1.000000      1.000000      1.000000      1.000000  \n",
       "\n",
       "[8 rows x 26 columns]"
      ]
     },
     "execution_count": 67,
     "metadata": {},
     "output_type": "execute_result"
    }
   ],
   "source": [
    "data.describe()"
   ]
  },
  {
   "cell_type": "code",
   "execution_count": 68,
   "metadata": {
    "colab": {
     "base_uri": "https://localhost:8080/"
    },
    "id": "ZQAeB7GvmLW6",
    "outputId": "28b5f98d-c1a5-4636-98f0-76f11216abbc"
   },
   "outputs": [
    {
     "data": {
      "text/plain": [
       "total             1.000000\n",
       "run_rate          0.464813\n",
       "striker           0.381967\n",
       "runs_last_5       0.368893\n",
       "non-striker       0.293394\n",
       "runs              0.254801\n",
       "bat_team_2        0.066630\n",
       "bat_team_3        0.056845\n",
       "venue_1           0.052469\n",
       "bowl_team_3       0.032148\n",
       "overs             0.022440\n",
       "bowl_team_4       0.018386\n",
       "bowl_team_1      -0.011330\n",
       "bat_team_4       -0.015796\n",
       "venue_5          -0.026509\n",
       "venue_2          -0.041050\n",
       "venue_6          -0.045118\n",
       "bowl_team_2      -0.059253\n",
       "bat_team_1       -0.060211\n",
       "venue_4          -0.099074\n",
       "venue_3          -0.130892\n",
       "wickets_last_5   -0.273506\n",
       "wickets          -0.337416\n",
       "venue_0                NaN\n",
       "bat_team_0             NaN\n",
       "bowl_team_0            NaN\n",
       "Name: total, dtype: float64"
      ]
     },
     "execution_count": 68,
     "metadata": {},
     "output_type": "execute_result"
    }
   ],
   "source": [
    "corr_matrix = data.corr()\n",
    "corr_matrix['total'].sort_values(ascending=False)"
   ]
  },
  {
   "cell_type": "markdown",
   "metadata": {
    "id": "fB8AB8g05uW6"
   },
   "source": [
    "Correlation matrix suggests that most of the encoded features have very low correlations with the target. Even the other features don't have very high correlation values. Fetures can be modified for higher correlation value."
   ]
  },
  {
   "cell_type": "markdown",
   "metadata": {
    "id": "GV16zQVB7PVS"
   },
   "source": [
    "Shifting the target column for ease of split during features and target assignment."
   ]
  },
  {
   "cell_type": "code",
   "execution_count": 69,
   "metadata": {
    "colab": {
     "base_uri": "https://localhost:8080/",
     "height": 419
    },
    "id": "cdrG0UQfY-re",
    "outputId": "5b118195-16ae-4059-eb7a-615db1b6d02c"
   },
   "outputs": [
    {
     "data": {
      "text/html": [
       "<div>\n",
       "<style scoped>\n",
       "    .dataframe tbody tr th:only-of-type {\n",
       "        vertical-align: middle;\n",
       "    }\n",
       "\n",
       "    .dataframe tbody tr th {\n",
       "        vertical-align: top;\n",
       "    }\n",
       "\n",
       "    .dataframe thead th {\n",
       "        text-align: right;\n",
       "    }\n",
       "</style>\n",
       "<table border=\"1\" class=\"dataframe\">\n",
       "  <thead>\n",
       "    <tr style=\"text-align: right;\">\n",
       "      <th></th>\n",
       "      <th>total</th>\n",
       "    </tr>\n",
       "  </thead>\n",
       "  <tbody>\n",
       "    <tr>\n",
       "      <th>0</th>\n",
       "      <td>222</td>\n",
       "    </tr>\n",
       "    <tr>\n",
       "      <th>1</th>\n",
       "      <td>222</td>\n",
       "    </tr>\n",
       "    <tr>\n",
       "      <th>2</th>\n",
       "      <td>222</td>\n",
       "    </tr>\n",
       "    <tr>\n",
       "      <th>3</th>\n",
       "      <td>222</td>\n",
       "    </tr>\n",
       "  </tbody>\n",
       "</table>\n",
       "</div>"
      ],
      "text/plain": [
       "   total\n",
       "0    222\n",
       "1    222\n",
       "2    222\n",
       "3    222"
      ]
     },
     "execution_count": 69,
     "metadata": {},
     "output_type": "execute_result"
    }
   ],
   "source": [
    "df = data[['total']]\n",
    "df.head(4)"
   ]
  },
  {
   "cell_type": "code",
   "execution_count": 73,
   "metadata": {
    "id": "MkDeBxrEY-on"
   },
   "outputs": [],
   "source": [
    "Data = data.drop('total', axis=1)"
   ]
  },
  {
   "cell_type": "code",
   "execution_count": 74,
   "metadata": {
    "id": "5XXUIcyQY-l-"
   },
   "outputs": [],
   "source": [
    "data = df.join(data, lsuffix='_caller', rsuffix='_other')"
   ]
  },
  {
   "cell_type": "code",
   "execution_count": 75,
   "metadata": {
    "colab": {
     "base_uri": "https://localhost:8080/",
     "height": 456
    },
    "id": "_jVkiQt2Y-jW",
    "outputId": "3abc5a62-8638-4b35-94de-0ea45c4819c3"
   },
   "outputs": [
    {
     "data": {
      "text/html": [
       "<div>\n",
       "<style scoped>\n",
       "    .dataframe tbody tr th:only-of-type {\n",
       "        vertical-align: middle;\n",
       "    }\n",
       "\n",
       "    .dataframe tbody tr th {\n",
       "        vertical-align: top;\n",
       "    }\n",
       "\n",
       "    .dataframe thead th {\n",
       "        text-align: right;\n",
       "    }\n",
       "</style>\n",
       "<table border=\"1\" class=\"dataframe\">\n",
       "  <thead>\n",
       "    <tr style=\"text-align: right;\">\n",
       "      <th></th>\n",
       "      <th>total_caller</th>\n",
       "      <th>runs</th>\n",
       "      <th>wickets</th>\n",
       "      <th>overs</th>\n",
       "      <th>runs_last_5</th>\n",
       "      <th>wickets_last_5</th>\n",
       "      <th>striker</th>\n",
       "      <th>non-striker</th>\n",
       "      <th>total_other</th>\n",
       "      <th>run_rate</th>\n",
       "      <th>...</th>\n",
       "      <th>bat_team_0</th>\n",
       "      <th>bat_team_1</th>\n",
       "      <th>bat_team_2</th>\n",
       "      <th>bat_team_3</th>\n",
       "      <th>bat_team_4</th>\n",
       "      <th>bowl_team_0</th>\n",
       "      <th>bowl_team_1</th>\n",
       "      <th>bowl_team_2</th>\n",
       "      <th>bowl_team_3</th>\n",
       "      <th>bowl_team_4</th>\n",
       "    </tr>\n",
       "  </thead>\n",
       "  <tbody>\n",
       "    <tr>\n",
       "      <th>0</th>\n",
       "      <td>222</td>\n",
       "      <td>1</td>\n",
       "      <td>0</td>\n",
       "      <td>0.1</td>\n",
       "      <td>1</td>\n",
       "      <td>0</td>\n",
       "      <td>0</td>\n",
       "      <td>0</td>\n",
       "      <td>222</td>\n",
       "      <td>6.0</td>\n",
       "      <td>...</td>\n",
       "      <td>0</td>\n",
       "      <td>0</td>\n",
       "      <td>0</td>\n",
       "      <td>0</td>\n",
       "      <td>1</td>\n",
       "      <td>0</td>\n",
       "      <td>0</td>\n",
       "      <td>0</td>\n",
       "      <td>0</td>\n",
       "      <td>1</td>\n",
       "    </tr>\n",
       "    <tr>\n",
       "      <th>1</th>\n",
       "      <td>222</td>\n",
       "      <td>1</td>\n",
       "      <td>0</td>\n",
       "      <td>0.2</td>\n",
       "      <td>1</td>\n",
       "      <td>0</td>\n",
       "      <td>0</td>\n",
       "      <td>0</td>\n",
       "      <td>222</td>\n",
       "      <td>3.0</td>\n",
       "      <td>...</td>\n",
       "      <td>0</td>\n",
       "      <td>0</td>\n",
       "      <td>0</td>\n",
       "      <td>0</td>\n",
       "      <td>1</td>\n",
       "      <td>0</td>\n",
       "      <td>0</td>\n",
       "      <td>0</td>\n",
       "      <td>0</td>\n",
       "      <td>1</td>\n",
       "    </tr>\n",
       "    <tr>\n",
       "      <th>2</th>\n",
       "      <td>222</td>\n",
       "      <td>2</td>\n",
       "      <td>0</td>\n",
       "      <td>0.2</td>\n",
       "      <td>2</td>\n",
       "      <td>0</td>\n",
       "      <td>0</td>\n",
       "      <td>0</td>\n",
       "      <td>222</td>\n",
       "      <td>6.0</td>\n",
       "      <td>...</td>\n",
       "      <td>0</td>\n",
       "      <td>0</td>\n",
       "      <td>0</td>\n",
       "      <td>0</td>\n",
       "      <td>1</td>\n",
       "      <td>0</td>\n",
       "      <td>0</td>\n",
       "      <td>0</td>\n",
       "      <td>0</td>\n",
       "      <td>1</td>\n",
       "    </tr>\n",
       "    <tr>\n",
       "      <th>3</th>\n",
       "      <td>222</td>\n",
       "      <td>2</td>\n",
       "      <td>0</td>\n",
       "      <td>0.3</td>\n",
       "      <td>2</td>\n",
       "      <td>0</td>\n",
       "      <td>0</td>\n",
       "      <td>0</td>\n",
       "      <td>222</td>\n",
       "      <td>4.0</td>\n",
       "      <td>...</td>\n",
       "      <td>0</td>\n",
       "      <td>0</td>\n",
       "      <td>0</td>\n",
       "      <td>0</td>\n",
       "      <td>1</td>\n",
       "      <td>0</td>\n",
       "      <td>0</td>\n",
       "      <td>0</td>\n",
       "      <td>0</td>\n",
       "      <td>1</td>\n",
       "    </tr>\n",
       "  </tbody>\n",
       "</table>\n",
       "<p>4 rows × 27 columns</p>\n",
       "</div>"
      ],
      "text/plain": [
       "   total_caller  runs  wickets  overs  runs_last_5  wickets_last_5  striker  \\\n",
       "0           222     1        0    0.1            1               0        0   \n",
       "1           222     1        0    0.2            1               0        0   \n",
       "2           222     2        0    0.2            2               0        0   \n",
       "3           222     2        0    0.3            2               0        0   \n",
       "\n",
       "   non-striker  total_other  run_rate  ...  bat_team_0  bat_team_1  \\\n",
       "0            0          222       6.0  ...           0           0   \n",
       "1            0          222       3.0  ...           0           0   \n",
       "2            0          222       6.0  ...           0           0   \n",
       "3            0          222       4.0  ...           0           0   \n",
       "\n",
       "   bat_team_2  bat_team_3  bat_team_4  bowl_team_0  bowl_team_1  bowl_team_2  \\\n",
       "0           0           0           1            0            0            0   \n",
       "1           0           0           1            0            0            0   \n",
       "2           0           0           1            0            0            0   \n",
       "3           0           0           1            0            0            0   \n",
       "\n",
       "   bowl_team_3  bowl_team_4  \n",
       "0            0            1  \n",
       "1            0            1  \n",
       "2            0            1  \n",
       "3            0            1  \n",
       "\n",
       "[4 rows x 27 columns]"
      ]
     },
     "execution_count": 75,
     "metadata": {},
     "output_type": "execute_result"
    }
   ],
   "source": [
    "data.head(4)"
   ]
  },
  {
   "cell_type": "code",
   "execution_count": null,
   "metadata": {},
   "outputs": [],
   "source": []
  },
  {
   "cell_type": "code",
   "execution_count": 77,
   "metadata": {
    "id": "JZ7xgoK-Y-bk"
   },
   "outputs": [],
   "source": [
    "X = data.iloc[:, 1:].values\n",
    "y = data.iloc[:, 0].values"
   ]
  },
  {
   "cell_type": "code",
   "execution_count": 59,
   "metadata": {
    "colab": {
     "base_uri": "https://localhost:8080/"
    },
    "id": "yCulV5y4lAGB",
    "outputId": "1d9b657b-1815-41de-ed55-64709cfbe273"
   },
   "outputs": [
    {
     "name": "stdout",
     "output_type": "stream",
     "text": [
      "       runs  wickets  overs  runs_last_5  wickets_last_5  striker  \\\n",
      "0         1        0    0.1            1               0        0   \n",
      "1         1        0    0.2            1               0        0   \n",
      "2         2        0    0.2            2               0        0   \n",
      "3         2        0    0.3            2               0        0   \n",
      "4         2        0    0.4            2               0        0   \n",
      "...     ...      ...    ...          ...             ...      ...   \n",
      "76009   121        7   19.2           40               0       40   \n",
      "76010   127        7   19.3           46               0       46   \n",
      "76011   128        7   19.4           47               0       47   \n",
      "76012   129        7   19.5           48               0       47   \n",
      "76013   129        8   19.6           47               1       47   \n",
      "\n",
      "       non-striker  run_rate  venue_1  venue_2  ...  venue_5  venue_6  \\\n",
      "0                0  6.000000        0        0  ...        0        1   \n",
      "1                0  3.000000        0        0  ...        0        1   \n",
      "2                0  6.000000        0        0  ...        0        1   \n",
      "3                0  4.000000        0        0  ...        0        1   \n",
      "4                0  3.000000        0        0  ...        0        1   \n",
      "...            ...       ...      ...      ...  ...      ...      ...   \n",
      "76009           12  6.258621        0        0  ...        1        1   \n",
      "76010           12  6.512821        0        0  ...        1        1   \n",
      "76011           12  6.508475        0        0  ...        1        1   \n",
      "76012           13  6.504202        0        0  ...        1        1   \n",
      "76013           13  6.450000        0        0  ...        1        1   \n",
      "\n",
      "       bat_team_1  bat_team_2  bat_team_3  bat_team_4  bowl_team_1  \\\n",
      "0               0           0           0           1            0   \n",
      "1               0           0           0           1            0   \n",
      "2               0           0           0           1            0   \n",
      "3               0           0           0           1            0   \n",
      "4               0           0           0           1            0   \n",
      "...           ...         ...         ...         ...          ...   \n",
      "76009           0           1           0           0            1   \n",
      "76010           0           1           0           0            1   \n",
      "76011           0           1           0           0            1   \n",
      "76012           0           1           0           0            1   \n",
      "76013           0           1           0           0            1   \n",
      "\n",
      "       bowl_team_2  bowl_team_3  bowl_team_4  \n",
      "0                0            0            1  \n",
      "1                0            0            1  \n",
      "2                0            0            1  \n",
      "3                0            0            1  \n",
      "4                0            0            1  \n",
      "...            ...          ...          ...  \n",
      "76009            1            1            0  \n",
      "76010            1            1            0  \n",
      "76011            1            1            0  \n",
      "76012            1            1            0  \n",
      "76013            1            1            0  \n",
      "\n",
      "[75977 rows x 22 columns]\n"
     ]
    }
   ],
   "source": [
    "print(X)"
   ]
  },
  {
   "cell_type": "code",
   "execution_count": 78,
   "metadata": {},
   "outputs": [
    {
     "data": {
      "text/plain": [
       "75977"
      ]
     },
     "execution_count": 78,
     "metadata": {},
     "output_type": "execute_result"
    }
   ],
   "source": [
    "len(X)"
   ]
  },
  {
   "cell_type": "markdown",
   "metadata": {
    "id": "DzHcnQsTm75R"
   },
   "source": [
    "## Training"
   ]
  },
  {
   "cell_type": "markdown",
   "metadata": {
    "id": "gL0JbCpL7ueq"
   },
   "source": [
    "Spliting the dataset into training and test sets."
   ]
  },
  {
   "cell_type": "code",
   "execution_count": 79,
   "metadata": {
    "id": "tlVW87QZlACn"
   },
   "outputs": [],
   "source": [
    "from sklearn.model_selection import train_test_split\n",
    "X_train, X_test, y_train, y_test = train_test_split(X, y, test_size = 0.2, random_state = 1)"
   ]
  },
  {
   "cell_type": "markdown",
   "metadata": {
    "id": "NW-HyJti70fN"
   },
   "source": [
    "Standardization of the input range for rescaling the distribution of values to a standard scale"
   ]
  },
  {
   "cell_type": "code",
   "execution_count": 80,
   "metadata": {
    "id": "MjAewY-nk__J"
   },
   "outputs": [],
   "source": [
    "from sklearn.preprocessing import StandardScaler\n",
    "sc = StandardScaler()\n",
    "X_train[:, :] = sc.fit_transform(X_train[:, :])\n",
    "X_test[:, :] = sc.transform(X_test[:, :])"
   ]
  },
  {
   "cell_type": "code",
   "execution_count": 81,
   "metadata": {
    "colab": {
     "base_uri": "https://localhost:8080/"
    },
    "id": "2KlOqrtrk_6d",
    "outputId": "40f73783-7fcf-4a7d-adba-4830b6e17b52"
   },
   "outputs": [
    {
     "data": {
      "text/plain": [
       "array([[-1.12293478, -1.19944262, -1.31308062, ..., -0.95691672,\n",
       "         0.9548051 , -1.13596861],\n",
       "       [-0.09832794, -0.20597249, -0.20339941, ...,  1.04502302,\n",
       "         0.9548051 , -1.13596861],\n",
       "       [ 1.76645652,  1.78096777,  1.66918762, ..., -0.95691672,\n",
       "         0.9548051 , -1.13596861],\n",
       "       ...,\n",
       "       [ 0.20905412,  0.29076258,  0.09135966, ...,  1.04502302,\n",
       "         0.9548051 , -1.13596861],\n",
       "       [-0.63112349,  0.78749764, -0.75824001, ..., -0.95691672,\n",
       "         0.9548051 , -1.13596861],\n",
       "       [-0.22128076, -0.20597249, -0.11670557, ..., -0.95691672,\n",
       "         0.9548051 ,  0.88030601]])"
      ]
     },
     "execution_count": 81,
     "metadata": {},
     "output_type": "execute_result"
    }
   ],
   "source": [
    "X_train"
   ]
  },
  {
   "cell_type": "markdown",
   "metadata": {
    "id": "LJuAKBAU88f9"
   },
   "source": [
    "Use of RandomForestRegressor Algorithm for training on the dataset."
   ]
  },
  {
   "cell_type": "code",
   "execution_count": 82,
   "metadata": {
    "colab": {
     "base_uri": "https://localhost:8080/"
    },
    "id": "ekoCyEkNk_um",
    "outputId": "b88ace05-4c26-48e9-d8a9-0d2e1380cde5"
   },
   "outputs": [
    {
     "data": {
      "text/plain": [
       "RandomForestRegressor()"
      ]
     },
     "execution_count": 82,
     "metadata": {},
     "output_type": "execute_result"
    }
   ],
   "source": [
    "from sklearn.ensemble import RandomForestRegressor\n",
    "reg = RandomForestRegressor()\n",
    "reg.fit(X_train, y_train)"
   ]
  },
  {
   "cell_type": "markdown",
   "metadata": {
    "id": "GMDOak2NmuFt"
   },
   "source": [
    "### Prediction and Validation"
   ]
  },
  {
   "cell_type": "code",
   "execution_count": 84,
   "metadata": {
    "id": "nq2kHElJk_qZ"
   },
   "outputs": [],
   "source": [
    "y_pred = reg.predict(X_test)"
   ]
  },
  {
   "cell_type": "code",
   "execution_count": 85,
   "metadata": {
    "colab": {
     "base_uri": "https://localhost:8080/"
    },
    "id": "0gyTisXlk_nQ",
    "outputId": "f0283390-3507-4fbc-d375-73641fada5d3"
   },
   "outputs": [
    {
     "name": "stdout",
     "output_type": "stream",
     "text": [
      "Coefficient of determination: 1.00\n"
     ]
    }
   ],
   "source": [
    "from sklearn.metrics import r2_score\n",
    "print('Coefficient of determination: %.2f'\n",
    "      % r2_score(y_test, y_pred))"
   ]
  },
  {
   "cell_type": "code",
   "execution_count": 86,
   "metadata": {
    "colab": {
     "base_uri": "https://localhost:8080/"
    },
    "id": "imwlhl-gk_jr",
    "outputId": "0e27b636-37d8-4e0d-961b-4279e80e7ba1"
   },
   "outputs": [
    {
     "name": "stdout",
     "output_type": "stream",
     "text": [
      "mean_squared_error: 0.00\n"
     ]
    }
   ],
   "source": [
    "from sklearn.metrics import mean_squared_log_error\n",
    "print('mean_squared_error: %.2f'\n",
    "      % mean_squared_log_error(y_test, y_pred))"
   ]
  },
  {
   "cell_type": "markdown",
   "metadata": {
    "id": "BTICnW-VAER1"
   },
   "source": [
    "This cell is using cross-validation to check for overfitting. Here we perform k-fold cross validation by splitting the data into 10 subsets. Then we train the algorithm iteratively on 9 of these and test it on the 10th set."
   ]
  },
  {
   "cell_type": "markdown",
   "metadata": {
    "id": "sJox765DBS12"
   },
   "source": [
    "You may choose to not use this cell as it is just for checking and takes a lot of time to cross validate."
   ]
  },
  {
   "cell_type": "code",
   "execution_count": 89,
   "metadata": {
    "colab": {
     "base_uri": "https://localhost:8080/"
    },
    "id": "Jl4fKCFAoZGh",
    "outputId": "e38ada9e-e4ea-46da-8460-3f9160fa1dc3"
   },
   "outputs": [],
   "source": [
    "# from sklearn.model_selection import cross_val_score\n",
    "# accuracies = cross_val_score(estimator = reg, X = X_train, y = y_train, cv = 10)\n",
    "# print('Accuracy: {:.2f} %'.format(accuracies.mean()*100))\n",
    "# print('Standard_Deviation: {:.2f} %'.format(accuracies.std()*100))"
   ]
  },
  {
   "cell_type": "markdown",
   "metadata": {
    "id": "urv5Zp7WA1dq"
   },
   "source": [
    "These results show that the values are similar to what we got earlier. Overfitting should not be a problem for this model on this data."
   ]
  },
  {
   "cell_type": "raw",
   "metadata": {
    "id": "vNLNLb9tY-Te"
   },
   "source": [
    "In future I have to make the input on app such that a selection of venue there means that a specific binary set of values for the encoded features. That would be good in terms of using the model and features that are encoded."
   ]
  },
  {
   "cell_type": "markdown",
   "metadata": {
    "id": "AhkZO8TKF6EQ"
   },
   "source": [
    "Another Personal Comment: can you make the input on app such that a selection of venue there means that a specific binary set of values for the encoded features. That would be really cool in terms of using the model and features that are encoded."
   ]
  }
 ],
 "metadata": {
  "colab": {
   "collapsed_sections": [
    "Opaf_1cIi4Is",
    "VC6bdExVSlFp",
    "35-oroKE3coW",
    "KnfGaxr0jmCk",
    "DzHcnQsTm75R",
    "GMDOak2NmuFt"
   ],
   "name": "IPL.ipynb",
   "provenance": []
  },
  "kernelspec": {
   "display_name": "Python 3",
   "language": "python",
   "name": "python3"
  },
  "language_info": {
   "codemirror_mode": {
    "name": "ipython",
    "version": 3
   },
   "file_extension": ".py",
   "mimetype": "text/x-python",
   "name": "python",
   "nbconvert_exporter": "python",
   "pygments_lexer": "ipython3",
   "version": "3.8.3"
  }
 },
 "nbformat": 4,
 "nbformat_minor": 1
}
